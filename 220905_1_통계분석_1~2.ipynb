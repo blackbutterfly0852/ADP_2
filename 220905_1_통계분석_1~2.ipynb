{
 "cells": [
  {
   "cell_type": "markdown",
   "id": "34c460e2",
   "metadata": {},
   "source": [
    "#### 추론통계 : 모수추정, 가설검정, 예측\n",
    "\n",
    "#### 표본집단 -> 모집단 추정\n",
    "#### 문제정의 -> 데이터 수집 -> 데이터 탐색 및 전처리 -> 데이터변환/정제 -> 통계모형 수립(모델링)-> 모형적합 -> 모형평가 -> 결론도출 \n",
    "#### 통계분석 flow == 머신러닝 flow\n",
    "#### 목적 : 예측, 변수 분류, 변수 종속 관계\n",
    "#### 데이터 이해, 해석, 분석기획까지\n",
    "\n",
    "#### 모집단 : 연구자가 알고 싶어하는 대상/ 집단전체\n",
    "#### 모수 : 표본 관측에 의해 구하고자 하는 모집단에 대한 정보.\n",
    "#### 표본 : 연구자가 측정 또는 관찰한 결과들의 집합\n",
    "#### 통계량 : 표본에 대한 정보, 특성을 나타내는  수치\n",
    "#### 원소 : 모집단을 구성하는 개체\n",
    "#### 뮤, 시그마(모표준편차)\n",
    "#### 엑스바, 에스(표본 표준편차)\n"
   ]
  },
  {
   "cell_type": "code",
   "execution_count": null,
   "id": "1228d4e0",
   "metadata": {},
   "outputs": [],
   "source": [
    "# 220906\n",
    "# 로지스틱 회귀분석"
   ]
  }
 ],
 "metadata": {
  "kernelspec": {
   "display_name": "Python 3 (ipykernel)",
   "language": "python",
   "name": "python3"
  },
  "language_info": {
   "codemirror_mode": {
    "name": "ipython",
    "version": 3
   },
   "file_extension": ".py",
   "mimetype": "text/x-python",
   "name": "python",
   "nbconvert_exporter": "python",
   "pygments_lexer": "ipython3",
   "version": "3.10.6"
  }
 },
 "nbformat": 4,
 "nbformat_minor": 5
}
