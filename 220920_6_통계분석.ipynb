{
 "cells": [
  {
   "cell_type": "code",
   "execution_count": 1,
   "id": "42956338",
   "metadata": {},
   "outputs": [],
   "source": [
    "# 로지스틱 회귀분석"
   ]
  },
  {
   "cell_type": "code",
   "execution_count": 5,
   "id": "43845b01",
   "metadata": {},
   "outputs": [],
   "source": [
    "# titanic 데이터를 분할하고, train 데이터로 로지스틱 회귀분석을 만들어보자"
   ]
  },
  {
   "cell_type": "code",
   "execution_count": 6,
   "id": "89ef75a2",
   "metadata": {},
   "outputs": [],
   "source": [
    "import pandas as pd\n",
    "import numpy as np"
   ]
  },
  {
   "cell_type": "code",
   "execution_count": 23,
   "id": "4bd4188e",
   "metadata": {},
   "outputs": [],
   "source": [
    "df_t = pd.read_csv('data/titanic.csv')"
   ]
  },
  {
   "cell_type": "code",
   "execution_count": 24,
   "id": "0befa471",
   "metadata": {},
   "outputs": [
    {
     "name": "stdout",
     "output_type": "stream",
     "text": [
      "<class 'pandas.core.frame.DataFrame'>\n",
      "RangeIndex: 891 entries, 0 to 890\n",
      "Data columns (total 11 columns):\n",
      " #   Column       Non-Null Count  Dtype  \n",
      "---  ------       --------------  -----  \n",
      " 0   survived     891 non-null    int64  \n",
      " 1   pclass       891 non-null    int64  \n",
      " 2   sex          891 non-null    object \n",
      " 3   age          714 non-null    float64\n",
      " 4   sibsp        891 non-null    int64  \n",
      " 5   parch        891 non-null    int64  \n",
      " 6   fare         891 non-null    float64\n",
      " 7   embarked     889 non-null    object \n",
      " 8   class        891 non-null    object \n",
      " 9   adult_male   891 non-null    bool   \n",
      " 10  embark_town  889 non-null    object \n",
      "dtypes: bool(1), float64(2), int64(4), object(4)\n",
      "memory usage: 70.6+ KB\n"
     ]
    }
   ],
   "source": [
    "# 로지스틱 회귀분석은 결측치 제거 필요\n",
    "df_t.info()\n",
    "df_t['age'] = df_t['age'].fillna(df_t['age'].median())\n",
    "df_t['embark_town'] = df_t['embark_town'].fillna(df_t['embark_town'].value_counts().index[0])"
   ]
  },
  {
   "cell_type": "code",
   "execution_count": 25,
   "id": "6b80d4d0",
   "metadata": {},
   "outputs": [],
   "source": [
    "# 중복된 변수 제거\n",
    "df_t = df_t.drop(['pclass', 'embarked'], axis = 1)\n",
    "# 더미변수화\n",
    "df_t = pd.get_dummies(df_t, columns=['sex', 'class', 'embark_town'])"
   ]
  },
  {
   "cell_type": "code",
   "execution_count": 26,
   "id": "debecc6b",
   "metadata": {},
   "outputs": [
    {
     "name": "stdout",
     "output_type": "stream",
     "text": [
      "<class 'pandas.core.frame.DataFrame'>\n",
      "RangeIndex: 891 entries, 0 to 890\n",
      "Data columns (total 14 columns):\n",
      " #   Column                   Non-Null Count  Dtype  \n",
      "---  ------                   --------------  -----  \n",
      " 0   survived                 891 non-null    int64  \n",
      " 1   age                      891 non-null    float64\n",
      " 2   sibsp                    891 non-null    int64  \n",
      " 3   parch                    891 non-null    int64  \n",
      " 4   fare                     891 non-null    float64\n",
      " 5   adult_male               891 non-null    bool   \n",
      " 6   sex_female               891 non-null    uint8  \n",
      " 7   sex_male                 891 non-null    uint8  \n",
      " 8   class_First              891 non-null    uint8  \n",
      " 9   class_Second             891 non-null    uint8  \n",
      " 10  class_Third              891 non-null    uint8  \n",
      " 11  embark_town_Cherbourg    891 non-null    uint8  \n",
      " 12  embark_town_Queenstown   891 non-null    uint8  \n",
      " 13  embark_town_Southampton  891 non-null    uint8  \n",
      "dtypes: bool(1), float64(2), int64(3), uint8(8)\n",
      "memory usage: 42.8 KB\n"
     ]
    }
   ],
   "source": [
    "df_t.info()"
   ]
  },
  {
   "cell_type": "code",
   "execution_count": 28,
   "id": "1cabafa5",
   "metadata": {},
   "outputs": [],
   "source": [
    "df_t['adult_male'].value_counts()\n",
    "df_t = df_t.astype(float)"
   ]
  },
  {
   "cell_type": "code",
   "execution_count": 29,
   "id": "e92abe19",
   "metadata": {},
   "outputs": [
    {
     "name": "stdout",
     "output_type": "stream",
     "text": [
      "<class 'pandas.core.frame.DataFrame'>\n",
      "RangeIndex: 891 entries, 0 to 890\n",
      "Data columns (total 14 columns):\n",
      " #   Column                   Non-Null Count  Dtype  \n",
      "---  ------                   --------------  -----  \n",
      " 0   survived                 891 non-null    float64\n",
      " 1   age                      891 non-null    float64\n",
      " 2   sibsp                    891 non-null    float64\n",
      " 3   parch                    891 non-null    float64\n",
      " 4   fare                     891 non-null    float64\n",
      " 5   adult_male               891 non-null    float64\n",
      " 6   sex_female               891 non-null    float64\n",
      " 7   sex_male                 891 non-null    float64\n",
      " 8   class_First              891 non-null    float64\n",
      " 9   class_Second             891 non-null    float64\n",
      " 10  class_Third              891 non-null    float64\n",
      " 11  embark_town_Cherbourg    891 non-null    float64\n",
      " 12  embark_town_Queenstown   891 non-null    float64\n",
      " 13  embark_town_Southampton  891 non-null    float64\n",
      "dtypes: float64(14)\n",
      "memory usage: 97.6 KB\n"
     ]
    }
   ],
   "source": [
    "df_t.info()"
   ]
  },
  {
   "cell_type": "code",
   "execution_count": 30,
   "id": "a6e627cd",
   "metadata": {},
   "outputs": [
    {
     "data": {
      "text/plain": [
       "1.0    537\n",
       "0.0    354\n",
       "Name: adult_male, dtype: int64"
      ]
     },
     "execution_count": 30,
     "metadata": {},
     "output_type": "execute_result"
    }
   ],
   "source": [
    "df_t['adult_male'].value_counts() # True 1.0 False 0.0"
   ]
  },
  {
   "cell_type": "code",
   "execution_count": 31,
   "id": "0c8e5ce7",
   "metadata": {},
   "outputs": [],
   "source": [
    "# 설명변수(X), 타겟변수(y) 분리\n",
    "X = df_t.drop(['survived'], axis = 1)\n",
    "y = df_t['survived']"
   ]
  },
  {
   "cell_type": "code",
   "execution_count": 33,
   "id": "a77eeecf",
   "metadata": {},
   "outputs": [],
   "source": [
    "# 홀드아웃 기법\n",
    "from sklearn.model_selection import train_test_split\n",
    "X_train, X_test, y_train, y_test = train_test_split(X, y, stratify = y, test_size = 0.2, random_state = 2020)\n",
    "# test_size = 0.2 기준으로 1차 분류\n",
    "# 분류된 내부를 stratify 기준으로 2차 분류"
   ]
  },
  {
   "cell_type": "code",
   "execution_count": 46,
   "id": "f30d971c",
   "metadata": {},
   "outputs": [
    {
     "name": "stdout",
     "output_type": "stream",
     "text": [
      "0.6161616161616161\n",
      "0.3838383838383838\n",
      "712\n",
      "179\n",
      "0.7991021324354658\n",
      "0.20089786756453423\n",
      "712\n",
      "179\n"
     ]
    }
   ],
   "source": [
    "y.value_counts()\n",
    "# stratify = y\n",
    "# 0.0 \n",
    "print(549/(549+342))\n",
    "# 1.0 \n",
    "print(342/(549+342))\n",
    "\n",
    "print(len(X_train))\n",
    "print(len(X_test))\n",
    "print(712/(712+179))\n",
    "print(179/(712+179))\n",
    "print(len(y_train))\n",
    "print(len(y_test))"
   ]
  },
  {
   "cell_type": "code",
   "execution_count": 48,
   "id": "b4a1e46f",
   "metadata": {},
   "outputs": [
    {
     "name": "stdout",
     "output_type": "stream",
     "text": [
      "Optimization terminated successfully.\n",
      "         Current function value: 0.409459\n",
      "         Iterations 7\n"
     ]
    }
   ],
   "source": [
    "import statsmodels.api as sm\n",
    "#help(sm.Logit)\n",
    "model = sm.Logit(y_train, X_train) # 순서 중요\n",
    "result = model.fit()"
   ]
  },
  {
   "cell_type": "code",
   "execution_count": 49,
   "id": "8a764d76",
   "metadata": {},
   "outputs": [
    {
     "name": "stdout",
     "output_type": "stream",
     "text": [
      "                           Logit Regression Results                           \n",
      "==============================================================================\n",
      "Dep. Variable:               survived   No. Observations:                  712\n",
      "Model:                          Logit   Df Residuals:                      701\n",
      "Method:                           MLE   Df Model:                           10\n",
      "Date:                Tue, 20 Sep 2022   Pseudo R-squ.:                  0.3849\n",
      "Time:                        22:59:33   Log-Likelihood:                -291.53\n",
      "converged:                       True   LL-Null:                       -473.99\n",
      "Covariance Type:            nonrobust   LLR p-value:                 2.720e-72\n",
      "===========================================================================================\n",
      "                              coef    std err          z      P>|z|      [0.025      0.975]\n",
      "-------------------------------------------------------------------------------------------\n",
      "age                        -0.0184      0.009     -1.960      0.050      -0.037   -3.62e-06\n",
      "sibsp                      -0.5172      0.133     -3.875      0.000      -0.779      -0.256\n",
      "parch                      -0.3479      0.146     -2.386      0.017      -0.634      -0.062\n",
      "fare                        0.0049      0.003      1.606      0.108      -0.001       0.011\n",
      "adult_male                 -3.3484      0.575     -5.828      0.000      -4.474      -2.222\n",
      "sex_female                  1.0537        nan        nan        nan         nan         nan\n",
      "sex_male                    1.1034        nan        nan        nan         nan         nan\n",
      "class_First                 1.5521        nan        nan        nan         nan         nan\n",
      "class_Second                0.8715        nan        nan        nan         nan         nan\n",
      "class_Third                -0.2666        nan        nan        nan         nan         nan\n",
      "embark_town_Cherbourg       1.0016   1.06e+07   9.47e-08      1.000   -2.07e+07    2.07e+07\n",
      "embark_town_Queenstown      0.6284   1.06e+07   5.94e-08      1.000   -2.07e+07    2.07e+07\n",
      "embark_town_Southampton     0.5270   1.06e+07   4.98e-08      1.000   -2.07e+07    2.07e+07\n",
      "===========================================================================================\n"
     ]
    }
   ],
   "source": [
    "print(result.summary())"
   ]
  },
  {
   "cell_type": "code",
   "execution_count": 50,
   "id": "92bb80ec",
   "metadata": {},
   "outputs": [
    {
     "name": "stdout",
     "output_type": "stream",
     "text": [
      "model AIC :  605.06963\n"
     ]
    }
   ],
   "source": [
    "# 성능척도_1 AIC\n",
    "print(\"model AIC : \", \"{:.5f}\".format(result.aic))"
   ]
  },
  {
   "cell_type": "code",
   "execution_count": null,
   "id": "1e0bb24d",
   "metadata": {},
   "outputs": [],
   "source": []
  },
  {
   "cell_type": "code",
   "execution_count": null,
   "id": "a207f6da",
   "metadata": {},
   "outputs": [],
   "source": []
  },
  {
   "cell_type": "code",
   "execution_count": null,
   "id": "2ce1d409",
   "metadata": {},
   "outputs": [],
   "source": []
  },
  {
   "cell_type": "code",
   "execution_count": null,
   "id": "37114887",
   "metadata": {},
   "outputs": [],
   "source": []
  },
  {
   "cell_type": "code",
   "execution_count": null,
   "id": "ec0532f1",
   "metadata": {},
   "outputs": [],
   "source": []
  },
  {
   "cell_type": "code",
   "execution_count": null,
   "id": "939db9db",
   "metadata": {},
   "outputs": [],
   "source": []
  },
  {
   "cell_type": "code",
   "execution_count": null,
   "id": "0d28661c",
   "metadata": {},
   "outputs": [],
   "source": []
  },
  {
   "cell_type": "code",
   "execution_count": null,
   "id": "280a9834",
   "metadata": {},
   "outputs": [],
   "source": []
  },
  {
   "cell_type": "code",
   "execution_count": null,
   "id": "d510f51d",
   "metadata": {},
   "outputs": [],
   "source": []
  },
  {
   "cell_type": "code",
   "execution_count": null,
   "id": "29f0764e",
   "metadata": {},
   "outputs": [],
   "source": []
  },
  {
   "cell_type": "code",
   "execution_count": null,
   "id": "c39fb919",
   "metadata": {},
   "outputs": [],
   "source": []
  },
  {
   "cell_type": "code",
   "execution_count": null,
   "id": "3be4e6f3",
   "metadata": {},
   "outputs": [],
   "source": []
  },
  {
   "cell_type": "code",
   "execution_count": null,
   "id": "ae30d491",
   "metadata": {},
   "outputs": [],
   "source": []
  },
  {
   "cell_type": "code",
   "execution_count": null,
   "id": "c42f778a",
   "metadata": {},
   "outputs": [],
   "source": []
  },
  {
   "cell_type": "code",
   "execution_count": null,
   "id": "601a60ef",
   "metadata": {},
   "outputs": [],
   "source": []
  },
  {
   "cell_type": "code",
   "execution_count": null,
   "id": "78c6b4bd",
   "metadata": {},
   "outputs": [],
   "source": []
  },
  {
   "cell_type": "code",
   "execution_count": null,
   "id": "fd37bea6",
   "metadata": {},
   "outputs": [],
   "source": []
  },
  {
   "cell_type": "code",
   "execution_count": null,
   "id": "56829a10",
   "metadata": {},
   "outputs": [],
   "source": []
  },
  {
   "cell_type": "code",
   "execution_count": null,
   "id": "d1d90d3b",
   "metadata": {},
   "outputs": [],
   "source": []
  },
  {
   "cell_type": "code",
   "execution_count": null,
   "id": "7902fc0c",
   "metadata": {},
   "outputs": [],
   "source": []
  },
  {
   "cell_type": "code",
   "execution_count": null,
   "id": "834ac2a2",
   "metadata": {},
   "outputs": [],
   "source": []
  },
  {
   "cell_type": "code",
   "execution_count": null,
   "id": "adcbeb0a",
   "metadata": {},
   "outputs": [],
   "source": []
  },
  {
   "cell_type": "code",
   "execution_count": null,
   "id": "9aab5144",
   "metadata": {},
   "outputs": [],
   "source": []
  },
  {
   "cell_type": "code",
   "execution_count": null,
   "id": "75d8f409",
   "metadata": {},
   "outputs": [],
   "source": []
  }
 ],
 "metadata": {
  "kernelspec": {
   "display_name": "Python 3 (ipykernel)",
   "language": "python",
   "name": "python3"
  },
  "language_info": {
   "codemirror_mode": {
    "name": "ipython",
    "version": 3
   },
   "file_extension": ".py",
   "mimetype": "text/x-python",
   "name": "python",
   "nbconvert_exporter": "python",
   "pygments_lexer": "ipython3",
   "version": "3.10.6"
  }
 },
 "nbformat": 4,
 "nbformat_minor": 5
}
