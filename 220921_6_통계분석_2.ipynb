{
 "cells": [
  {
   "cell_type": "code",
   "execution_count": 2,
   "id": "fa84dfbb",
   "metadata": {},
   "outputs": [],
   "source": [
    "# 다항 로지스틱 회귀분석\n",
    "import pandas as pd\n",
    "iris = pd.read_csv('data/iris.csv')\n",
    "X = iris.drop(['target'], axis = 1)\n",
    "y = iris['target']"
   ]
  },
  {
   "cell_type": "code",
   "execution_count": 4,
   "id": "d6e40625",
   "metadata": {},
   "outputs": [],
   "source": [
    "# 훈련용 평가셋 분리하기\n",
    "from sklearn.model_selection import train_test_split\n",
    "X_train, X_test, y_train, y_test = train_test_split(X, y, stratify = y, train_size = 0.7, test_size = 0.3, random_state = 123)"
   ]
  },
  {
   "cell_type": "code",
   "execution_count": 5,
   "id": "6868fbcb",
   "metadata": {},
   "outputs": [
    {
     "name": "stdout",
     "output_type": "stream",
     "text": [
      "LogisticRegression()\n"
     ]
    }
   ],
   "source": [
    "# 모델 적합하기\n",
    "# sklearn l2 패널티를 이용하여, 다중공선성 문제를 내부적으로 해결\n",
    "# 독립변수 간의 상관성이 높이 변수라면, l2패널티를 0으로 가깝게 하여, 변수를 삭제하는 효과\n",
    "# 그러나 전통적 통계분석 처럼, p_value 값을 활용하여, 변수들이 유의한지 알아보기는 어렵다.\n",
    "# 해석력이 중요하면 통계모델, 결과치나 정확도가 중요하면 머신러닝 모델을 사용한다.\n",
    "from sklearn.linear_model import LogisticRegression\n",
    "\n",
    "model = LogisticRegression()\n",
    "model.fit(X_train, y_train)\n",
    "print(model)"
   ]
  },
  {
   "cell_type": "code",
   "execution_count": 11,
   "id": "8df076c4",
   "metadata": {},
   "outputs": [
    {
     "data": {
      "text/html": [
       "<div>\n",
       "<style scoped>\n",
       "    .dataframe tbody tr th:only-of-type {\n",
       "        vertical-align: middle;\n",
       "    }\n",
       "\n",
       "    .dataframe tbody tr th {\n",
       "        vertical-align: top;\n",
       "    }\n",
       "\n",
       "    .dataframe thead th {\n",
       "        text-align: right;\n",
       "    }\n",
       "</style>\n",
       "<table border=\"1\" class=\"dataframe\">\n",
       "  <thead>\n",
       "    <tr style=\"text-align: right;\">\n",
       "      <th></th>\n",
       "      <th>predicted_setosa</th>\n",
       "      <th>predicted_versicolor</th>\n",
       "      <th>predicted_virginica</th>\n",
       "    </tr>\n",
       "  </thead>\n",
       "  <tbody>\n",
       "    <tr>\n",
       "      <th>setosa</th>\n",
       "      <td>15</td>\n",
       "      <td>0</td>\n",
       "      <td>0</td>\n",
       "    </tr>\n",
       "    <tr>\n",
       "      <th>versicolor</th>\n",
       "      <td>0</td>\n",
       "      <td>14</td>\n",
       "      <td>1</td>\n",
       "    </tr>\n",
       "    <tr>\n",
       "      <th>virginica</th>\n",
       "      <td>0</td>\n",
       "      <td>0</td>\n",
       "      <td>15</td>\n",
       "    </tr>\n",
       "  </tbody>\n",
       "</table>\n",
       "</div>"
      ],
      "text/plain": [
       "            predicted_setosa  predicted_versicolor  predicted_virginica\n",
       "setosa                    15                     0                    0\n",
       "versicolor                 0                    14                    1\n",
       "virginica                  0                     0                   15"
      ]
     },
     "execution_count": 11,
     "metadata": {},
     "output_type": "execute_result"
    }
   ],
   "source": [
    "# 모델 평가\n",
    "from sklearn.metrics import classification_report, confusion_matrix, accuracy_score, roc_auc_score\n",
    "# 테스트 셋 예측\n",
    "predicted = model.predict(X_test) # 예측한 확률값을 바탕으로 종속변수 내 unique_value로 리턴\n",
    "# predicted = model.predict_proba(X_test) # 확률값으로 예측\n",
    "\n",
    "# 오분류표 생성\n",
    "cm = confusion_matrix(y_test, predicted)\n",
    "cmtb = pd.DataFrame(cm, columns = ['predicted_setosa', 'predicted_versicolor', 'predicted_virginica'],\n",
    "                    index = ['setosa', 'versicolor', 'virginica'])\n",
    "\n",
    "cmtb"
   ]
  },
  {
   "cell_type": "code",
   "execution_count": 14,
   "id": "9f1db639",
   "metadata": {},
   "outputs": [
    {
     "name": "stdout",
     "output_type": "stream",
     "text": [
      "Accuracy score :  0.9777777777777777\n",
      "                 precision    recall  f1-score   support\n",
      "\n",
      "    Iris-setosa       1.00      1.00      1.00        15\n",
      "Iris-versicolor       1.00      0.93      0.97        15\n",
      " Iris-virginica       0.94      1.00      0.97        15\n",
      "\n",
      "       accuracy                           0.98        45\n",
      "      macro avg       0.98      0.98      0.98        45\n",
      "   weighted avg       0.98      0.98      0.98        45\n",
      "\n"
     ]
    }
   ],
   "source": [
    "# 정확도\n",
    "print('Accuracy score : ', accuracy_score(y_test, predicted))\n",
    "\n",
    "# 분류리포트 생성하기\n",
    "class_report = classification_report(y_test, predicted)\n",
    "print(class_report)"
   ]
  },
  {
   "cell_type": "code",
   "execution_count": 15,
   "id": "8c3d4ce0",
   "metadata": {},
   "outputs": [
    {
     "data": {
      "text/plain": [
       "0.9985185185185186"
      ]
     },
     "execution_count": 15,
     "metadata": {},
     "output_type": "execute_result"
    }
   ],
   "source": [
    "roc_auc_score(y_test, model.predict_proba(X_test), multi_class = 'ovr')"
   ]
  },
  {
   "cell_type": "code",
   "execution_count": 16,
   "id": "bf057ea0",
   "metadata": {},
   "outputs": [],
   "source": [
    "# 다항 로지스틱 회귀 계수 해석"
   ]
  },
  {
   "cell_type": "code",
   "execution_count": 17,
   "id": "5d277a64",
   "metadata": {},
   "outputs": [
    {
     "name": "stdout",
     "output_type": "stream",
     "text": [
      "Intercept : \n",
      " [  9.42963576   2.10066476 -11.53030052]\n",
      "Coefficient : \n",
      " [[-0.45748411  0.87255203 -2.3084507  -0.96016685]\n",
      " [ 0.37568618 -0.19450085 -0.16285544 -0.75327619]\n",
      " [ 0.08179793 -0.67805118  2.47130614  1.71344303]]\n"
     ]
    }
   ],
   "source": [
    "print('Intercept : \\n', model.intercept_)\n",
    "print('Coefficient : \\n', model.coef_)"
   ]
  },
  {
   "cell_type": "code",
   "execution_count": 18,
   "id": "985a0ae1",
   "metadata": {},
   "outputs": [
    {
     "data": {
      "text/plain": [
       "array([[ 0.63287388,  2.3930101 ,  0.09941516,  0.38282901],\n",
       "       [ 1.45599014,  0.82324548,  0.84971401,  0.47082152],\n",
       "       [ 1.0852365 ,  0.50760526, 11.83789871,  5.54803067]])"
      ]
     },
     "execution_count": 18,
     "metadata": {},
     "output_type": "execute_result"
    }
   ],
   "source": [
    "# 오즈비 계산하기\n",
    "import numpy as np\n",
    "np.exp(model.coef_)"
   ]
  },
  {
   "cell_type": "code",
   "execution_count": 19,
   "id": "7eda729e",
   "metadata": {},
   "outputs": [
    {
     "data": {
      "text/html": [
       "<div>\n",
       "<style scoped>\n",
       "    .dataframe tbody tr th:only-of-type {\n",
       "        vertical-align: middle;\n",
       "    }\n",
       "\n",
       "    .dataframe tbody tr th {\n",
       "        vertical-align: top;\n",
       "    }\n",
       "\n",
       "    .dataframe thead th {\n",
       "        text-align: right;\n",
       "    }\n",
       "</style>\n",
       "<table border=\"1\" class=\"dataframe\">\n",
       "  <thead>\n",
       "    <tr style=\"text-align: right;\">\n",
       "      <th></th>\n",
       "      <th>sepal length</th>\n",
       "      <th>sepal width</th>\n",
       "      <th>petal length</th>\n",
       "      <th>petal width</th>\n",
       "    </tr>\n",
       "  </thead>\n",
       "  <tbody>\n",
       "    <tr>\n",
       "      <th>Iris-setosa</th>\n",
       "      <td>0.632874</td>\n",
       "      <td>2.393010</td>\n",
       "      <td>0.099415</td>\n",
       "      <td>0.382829</td>\n",
       "    </tr>\n",
       "    <tr>\n",
       "      <th>Iris-versicolor</th>\n",
       "      <td>1.455990</td>\n",
       "      <td>0.823245</td>\n",
       "      <td>0.849714</td>\n",
       "      <td>0.470822</td>\n",
       "    </tr>\n",
       "    <tr>\n",
       "      <th>Iris-virginica</th>\n",
       "      <td>1.085236</td>\n",
       "      <td>0.507605</td>\n",
       "      <td>11.837899</td>\n",
       "      <td>5.548031</td>\n",
       "    </tr>\n",
       "  </tbody>\n",
       "</table>\n",
       "</div>"
      ],
      "text/plain": [
       "                 sepal length  sepal width  petal length  petal width\n",
       "Iris-setosa          0.632874     2.393010      0.099415     0.382829\n",
       "Iris-versicolor      1.455990     0.823245      0.849714     0.470822\n",
       "Iris-virginica       1.085236     0.507605     11.837899     5.548031"
      ]
     },
     "execution_count": 19,
     "metadata": {},
     "output_type": "execute_result"
    }
   ],
   "source": [
    "pd.DataFrame(np.exp(model.coef_), columns = X_train.columns, index = model.classes_)"
   ]
  },
  {
   "cell_type": "code",
   "execution_count": 20,
   "id": "a8513856",
   "metadata": {},
   "outputs": [],
   "source": [
    "# sepal width가 한 단위 증가할 때, setosa 139% 증가, versicolor 18% 감소, virginica 50% 감소"
   ]
  },
  {
   "cell_type": "code",
   "execution_count": null,
   "id": "3e101eb3",
   "metadata": {},
   "outputs": [],
   "source": []
  }
 ],
 "metadata": {
  "kernelspec": {
   "display_name": "Python 3 (ipykernel)",
   "language": "python",
   "name": "python3"
  },
  "language_info": {
   "codemirror_mode": {
    "name": "ipython",
    "version": 3
   },
   "file_extension": ".py",
   "mimetype": "text/x-python",
   "name": "python",
   "nbconvert_exporter": "python",
   "pygments_lexer": "ipython3",
   "version": "3.9.12"
  }
 },
 "nbformat": 4,
 "nbformat_minor": 5
}
