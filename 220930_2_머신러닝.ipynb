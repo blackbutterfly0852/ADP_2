{
 "cells": [
  {
   "cell_type": "code",
   "execution_count": 3,
   "id": "8ea72db8",
   "metadata": {},
   "outputs": [],
   "source": [
    "# 선형회귀분석\n",
    "# X_train으로 선형근사에 의해 예측된 선형 회귀식과\n",
    "# y_train 사이의 잔여 제곱합을 최소화합니다.\n",
    "# 머신러닝의 회귀분석은 예측에 초점, 설명력이 전통적 통계분석에 비해 낮음.\n",
    "# Ridge, Lasso, ElasticNet은 전통적 회귀분석을 보완\n",
    "# Ridge \n",
    "# > 일부문제(과대적합 <- 다중공선성, 변수 多) 해결, \n",
    "# > 다중공선성을 지닌 변수를 0에 가깝게 만들어 없애주는 효과(제곱을 해서 없앨 수는 없다.)\n",
    "# > 알파 값 크면, 가중치의 영향이 크고, 이는 과대적합을 막는다\n",
    "# > 알파 값이 너무 크면, 과소적합이 일어날 수 있다.\n",
    "\n",
    "# Lasso \n",
    "# > Ridge에서 해결할 수 없는 일부문제를 해결\n",
    "# > 절대값\n",
    "\n",
    "# ElasticNet\n",
    "# Ridge, Lasso의 장점을 결합\n",
    "\n",
    "# 결국 세 가지 방법은 어떠한 패널티를 부과하므로써, 다중공선성을 제거 할 수 있고,\n",
    "# 전통적 회귀분석이나, Linear regression의 문제를 해결 할 수 있다.\n",
    "# 그러나 그것을 해결해 줄 수는 알파는 직접 분석가가 찾아야 한다."
   ]
  },
  {
   "cell_type": "code",
   "execution_count": 2,
   "id": "b5299653",
   "metadata": {},
   "outputs": [
    {
     "name": "stderr",
     "output_type": "stream",
     "text": [
      "C:\\Users\\KDB\\anaconda3\\lib\\site-packages\\sklearn\\utils\\deprecation.py:87: FutureWarning: Function load_boston is deprecated; `load_boston` is deprecated in 1.0 and will be removed in 1.2.\n",
      "\n",
      "    The Boston housing prices dataset has an ethical problem. You can refer to\n",
      "    the documentation of this function for further details.\n",
      "\n",
      "    The scikit-learn maintainers therefore strongly discourage the use of this\n",
      "    dataset unless the purpose of the code is to study and educate about\n",
      "    ethical issues in data science and machine learning.\n",
      "\n",
      "    In this special case, you can fetch the dataset from the original\n",
      "    source::\n",
      "\n",
      "        import pandas as pd\n",
      "        import numpy as np\n",
      "\n",
      "\n",
      "        data_url = \"http://lib.stat.cmu.edu/datasets/boston\"\n",
      "        raw_df = pd.read_csv(data_url, sep=\"\\s+\", skiprows=22, header=None)\n",
      "        data = np.hstack([raw_df.values[::2, :], raw_df.values[1::2, :2]])\n",
      "        target = raw_df.values[1::2, 2]\n",
      "\n",
      "    Alternative datasets include the California housing dataset (i.e.\n",
      "    :func:`~sklearn.datasets.fetch_california_housing`) and the Ames housing\n",
      "    dataset. You can load the datasets as follows::\n",
      "\n",
      "        from sklearn.datasets import fetch_california_housing\n",
      "        housing = fetch_california_housing()\n",
      "\n",
      "    for the California housing dataset and::\n",
      "\n",
      "        from sklearn.datasets import fetch_openml\n",
      "        housing = fetch_openml(name=\"house_prices\", as_frame=True)\n",
      "\n",
      "    for the Ames housing dataset.\n",
      "    \n",
      "  warnings.warn(msg, category=FutureWarning)\n"
     ]
    }
   ],
   "source": [
    "import pandas as pd\n",
    "import numpy as np\n",
    "import mglearn\n",
    "X, y = mglearn.datasets.load_extended_boston()"
   ]
  },
  {
   "cell_type": "code",
   "execution_count": 3,
   "id": "5bf4c6da",
   "metadata": {},
   "outputs": [
    {
     "data": {
      "text/plain": [
       "array([[0.00000000e+00, 1.80000000e-01, 6.78152493e-02, ...,\n",
       "        1.00000000e+00, 8.96799117e-02, 8.04248656e-03],\n",
       "       [2.35922539e-04, 0.00000000e+00, 2.42302053e-01, ...,\n",
       "        1.00000000e+00, 2.04470199e-01, 4.18080621e-02],\n",
       "       [2.35697744e-04, 0.00000000e+00, 2.42302053e-01, ...,\n",
       "        9.79579831e-01, 6.28144504e-02, 4.02790570e-03],\n",
       "       ...,\n",
       "       [6.11892474e-04, 0.00000000e+00, 4.20454545e-01, ...,\n",
       "        1.00000000e+00, 1.07891832e-01, 1.16406475e-02],\n",
       "       [1.16072990e-03, 0.00000000e+00, 4.20454545e-01, ...,\n",
       "        9.82676920e-01, 1.29930407e-01, 1.71795127e-02],\n",
       "       [4.61841693e-04, 0.00000000e+00, 4.20454545e-01, ...,\n",
       "        1.00000000e+00, 1.69701987e-01, 2.87987643e-02]])"
      ]
     },
     "execution_count": 3,
     "metadata": {},
     "output_type": "execute_result"
    }
   ],
   "source": [
    "X"
   ]
  },
  {
   "cell_type": "code",
   "execution_count": 4,
   "id": "6c3a69a3",
   "metadata": {},
   "outputs": [
    {
     "name": "stdout",
     "output_type": "stream",
     "text": [
      "(506, 104)\n",
      "(506,)\n"
     ]
    }
   ],
   "source": [
    "print(X.shape)\n",
    "print(y.shape)"
   ]
  },
  {
   "cell_type": "code",
   "execution_count": 5,
   "id": "a8737ab1",
   "metadata": {},
   "outputs": [],
   "source": [
    "# 훈련, 테스트 셋 분리\n",
    "from sklearn.model_selection import train_test_split\n",
    "X_train, X_test, y_train, y_test = train_test_split(X,y,test_size = 0.3, random_state = 0)"
   ]
  },
  {
   "cell_type": "code",
   "execution_count": 6,
   "id": "a797b691",
   "metadata": {},
   "outputs": [
    {
     "name": "stdout",
     "output_type": "stream",
     "text": [
      "(354, 104)\n",
      "(354,)\n"
     ]
    }
   ],
   "source": [
    "print(X_train.shape)\n",
    "print(y_train.shape)"
   ]
  },
  {
   "cell_type": "code",
   "execution_count": 8,
   "id": "f4231780",
   "metadata": {},
   "outputs": [
    {
     "data": {
      "text/plain": [
       "LinearRegression()"
      ]
     },
     "execution_count": 8,
     "metadata": {},
     "output_type": "execute_result"
    }
   ],
   "source": [
    "from sklearn.linear_model import LinearRegression\n",
    "lr = LinearRegression()\n",
    "lr.fit(X_train, y_train)"
   ]
  },
  {
   "cell_type": "code",
   "execution_count": 9,
   "id": "d3f1f5b7",
   "metadata": {},
   "outputs": [
    {
     "name": "stdout",
     "output_type": "stream",
     "text": [
      "기울기 :  [-4.33704714e+02 -4.27754308e+01 -1.28481468e+02 -1.18776033e+01\n",
      " -1.78703730e+01  2.59686895e+01  5.63747064e+01 -5.58439243e+01\n",
      "  1.61598828e+01  4.16901656e+01 -1.09516095e+01 -1.40253594e+01\n",
      " -2.19041413e+01  1.90551463e+01  2.76667699e+03  1.53047514e+03\n",
      "  1.21268554e+02 -4.60499609e+00  2.48383118e+01 -3.00570284e+01\n",
      "  9.59771262e+01  1.33888720e+03 -2.33427571e+03  2.61342693e+02\n",
      " -1.41712353e+00  3.20215615e+01 -1.45894092e+01 -2.10437385e+01\n",
      " -7.66545703e+00 -8.03876611e+01  8.62968881e+00  7.28471754e+00\n",
      " -1.10266163e+00 -2.24144700e+00  3.23407788e+01 -1.03736502e+01\n",
      "  5.97750174e+01 -1.83399865e+01  3.64204995e+01 -4.26367054e+00\n",
      "  1.59044619e+01  5.69081378e+01  1.48746227e+01  6.39295382e+01\n",
      " -2.16980861e+01  2.25591789e+01 -1.49418510e+01  5.49066542e+01\n",
      " -1.30858038e+01 -1.18776033e+01 -1.67729835e+01 -3.46890006e+01\n",
      "  6.55871187e+00 -7.06931008e+00  1.15762091e+01 -5.82484408e+00\n",
      " -1.09660567e+01  5.89367073e+01 -1.93606085e+01  1.08440448e+00\n",
      "  2.92079323e+01 -1.79712416e+01  7.76892471e+01 -1.76823041e+01\n",
      "  2.10705479e+01 -3.61318856e+01  7.83124859e+00  2.30781445e+01\n",
      "  2.58472388e+01 -4.93601058e+01  3.34258774e+01  1.26260260e+01\n",
      " -7.27589803e+01 -2.34183530e+01  9.65471263e+00 -5.42861776e+00\n",
      "  2.99587789e+00 -5.58273290e+00  4.24364627e+01 -4.00394492e+01\n",
      " -3.07127315e+00 -2.95814395e+01 -3.26454923e+01  4.99511531e+01\n",
      " -2.60658619e+01 -2.07088803e+01 -1.37591761e+01 -2.44341720e+01\n",
      "  3.80071780e+01 -1.01350600e+02  1.40986617e+02 -1.21703331e+01\n",
      " -1.28431955e+01 -2.60888445e+01 -2.74946939e+01  2.85035364e+01\n",
      " -1.87238637e+01  2.16330148e+00  1.33434185e+00  3.34762834e+01\n",
      "  1.05195500e+01  1.01366894e+00  3.59245203e+00  3.20470461e+01]\n",
      "절편 :  29.512674275860988\n"
     ]
    }
   ],
   "source": [
    "# 기울기, 절편 호출\n",
    "print('기울기 : ', lr.coef_)\n",
    "print('절편 : ', lr.intercept_)"
   ]
  },
  {
   "cell_type": "code",
   "execution_count": 10,
   "id": "eea6b0be",
   "metadata": {},
   "outputs": [
    {
     "data": {
      "text/plain": [
       "array([ 23.91238964,  26.78414909,  30.01687048,  10.28605728,\n",
       "        19.97437885,  19.70947018,  22.10807185,  20.49301402,\n",
       "        12.11793241,  18.12056132,   7.28234863,  13.19064552,\n",
       "        14.19307564,   8.31574685,  48.8118262 ,  35.6478669 ,\n",
       "        23.59219392,  37.17322394,  32.23444089,  22.3010062 ,\n",
       "        24.91200988,  21.49172813,  21.02418627,  27.58758607,\n",
       "        17.95275344,  31.04267493,  16.28500244,  18.19156248,\n",
       "        34.4580386 ,  13.81558423,  16.44667748,  18.32919563,\n",
       "        19.63292289,  19.28759264,  26.33813933,  15.78458235,\n",
       "         6.48085359,  36.57816588,  16.80284058,  13.60511103,\n",
       "        22.48815769,  19.55024704,  19.42809998,  18.91401826,\n",
       "        10.04053426,  22.16499085,  17.95419741,   9.34413112,\n",
       "        12.54607347,  23.14172559, -28.22156936,  25.48915028,\n",
       "        20.14824028,  53.32403243,   6.98809351,  21.23712406,\n",
       "        16.86681946,  17.30122537,  17.98451255,  19.93228314,\n",
       "        24.09199817,  21.30079299,  33.30990714,  29.13499094,\n",
       "        19.55613446,  31.20843837,  15.42282308,  19.74133588,\n",
       "        13.80475198,  21.38970804,  18.44458882,  22.27476993,\n",
       "        27.48648027,  29.57344221,  28.03695467,   9.22357994,\n",
       "        41.78932963,  23.61804745,  26.14995721,  19.0036409 ,\n",
       "        26.05824702,  18.70702345,  21.8958552 ,  41.71997027,\n",
       "        44.12605995,  24.89578619,  22.72409092,  11.73202106,\n",
       "        32.91407103,  15.97456787,  19.92973279,   9.01877897,\n",
       "        21.32274525,  29.91018754,  17.79569743,  21.2016233 ,\n",
       "        13.29055036,  24.55537863,  13.58321231,  14.69866288,\n",
       "        25.59961697,  19.28016378,  31.06781849,  19.20967913,\n",
       "        26.77756854,  19.9871145 ,   7.4639847 ,  20.2417572 ,\n",
       "        18.25643158,  25.71310121,  36.59731284,  13.81738795,\n",
       "        17.21382478,  19.06051552,  16.07184541,  19.63826156,\n",
       "         5.79529518,  20.81960961,  11.33754575,  48.89741974,\n",
       "        28.9026105 ,  11.40087637,  16.72608416,  21.46850865,\n",
       "        20.06977641,  19.29295226,  37.23143329,  16.36104628,\n",
       "        15.85684634,  31.66218853,  15.37865726,   7.59450673,\n",
       "        12.43988476,  19.99809083,   7.42798907,  33.7982196 ,\n",
       "        21.36062501,  12.40438365,  27.95393745,   6.62261608,\n",
       "         8.65807689,  24.27535818,  37.78752863,  27.14748428,\n",
       "        27.441989  ,  15.54822959,  34.24965073,  31.87915926,\n",
       "        10.38782672,   8.20102953,  26.58083157,  25.61664583])"
      ]
     },
     "execution_count": 10,
     "metadata": {},
     "output_type": "execute_result"
    }
   ],
   "source": [
    "# 추정된 값\n",
    "y_pred = lr.predict(X_test)\n",
    "y_pred"
   ]
  },
  {
   "cell_type": "code",
   "execution_count": 11,
   "id": "792cd463",
   "metadata": {},
   "outputs": [
    {
     "data": {
      "text/plain": [
       "array([ -1.31238964,  23.21585091,  -7.01687048,  -1.98605728,\n",
       "         1.22562115,   0.19052982,  -1.50807185,  -1.79301402,\n",
       "         3.98206759,   0.47943868,   1.51765137,   4.00935448,\n",
       "         0.70692436,   2.18425315,   1.1881738 ,  -6.6478669 ,\n",
       "        -0.59219392,  -3.87322394,  -2.83444089,  -1.3010062 ,\n",
       "        -1.11200988,  -2.39172813,  -0.62418627,   1.51241393,\n",
       "         1.34724656,  -7.94267493,   3.31499756,   1.20843752,\n",
       "         4.2419614 ,   4.88441577,  -1.84667748,   1.67080437,\n",
       "         0.86707711,   0.81240736,  -2.73813933,   1.01541765,\n",
       "        -0.88085359,  13.42183412,  -2.30284058,  -0.30511103,\n",
       "         1.41184231,   0.44975296,   0.37190002,  -5.11401826,\n",
       "         6.45946574,  -0.56499085,   2.34580259,   7.65586888,\n",
       "        -0.74607347,   4.35827441,  43.82156936,  -2.38915028,\n",
       "         4.15175972, -10.52403243,   8.61190649,   0.46287594,\n",
       "         0.23318054,  -0.10122537,  -2.98451255,   1.76771686,\n",
       "        -5.49199817,  -0.30079299,  -0.20990714,   2.36500906,\n",
       "         0.54386554,  -1.40843837,  -0.22282308,  -4.74133588,\n",
       "        13.69524802,   1.21029196,   1.55541118,  -0.87476993,\n",
       "        -3.98648027,   1.62655779,  -4.33695467,  -1.82357994,\n",
       "         6.51067037,   0.78195255,  -3.54995721,  -0.7036409 ,\n",
       "        -2.75824702,  -1.60702345,   6.0041448 ,   3.08002973,\n",
       "         5.87394005,  -1.89578619,  -1.32409092,  -1.53202106,\n",
       "        -9.61407103,   7.22543213,  -1.02973279,   4.38122103,\n",
       "         0.57725475,  -5.11018754,  -5.89569743,   3.0983767 ,\n",
       "         0.50944964,   0.14462137,   0.51678769,   4.00133712,\n",
       "         2.50038303,   0.51983622,  -4.36781849,   2.49032087,\n",
       "        -4.77756854,   2.9128855 ,   2.9360153 ,   1.6582428 ,\n",
       "         2.34356842,   0.68689879,   4.70268716,   3.38261205,\n",
       "         9.88617522,   1.33948448,   0.42815459,   4.76173844,\n",
       "         2.60470482,   2.18039039,  -1.63754575,   1.10258026,\n",
       "         1.5973895 ,   0.89912363,   2.67391584,  -0.26850865,\n",
       "         0.23022359,  -0.49295226,  -3.83143329,   2.13895372,\n",
       "         3.74315366,   1.53781147,  -2.27865726,  -0.09450673,\n",
       "         1.16011524,  -2.59809083,   0.97201093,   1.6017804 ,\n",
       "         2.63937499,   0.99561635,  -1.75393745,   0.57738392,\n",
       "         4.44192311,   0.22464182,  -0.58752863,  -2.14748428,\n",
       "        -3.341989  ,   1.05177041,  -1.34965073,   4.32084074,\n",
       "         0.61217328,  -1.00102953,  -3.78083157,   3.08335417])"
      ]
     },
     "execution_count": 11,
     "metadata": {},
     "output_type": "execute_result"
    }
   ],
   "source": [
    "# 잔차를 확인하는 방법 : y값과 추정값의 차를 계산\n",
    "resid = y_test - y_pred\n",
    "resid"
   ]
  },
  {
   "cell_type": "code",
   "execution_count": 13,
   "id": "847787de",
   "metadata": {},
   "outputs": [
    {
     "name": "stdout",
     "output_type": "stream",
     "text": [
      "훈련 데이터 셋 성능 :  0.9517246762476053\n",
      "테스트 데이터 셋 성능 :  0.648683949998761\n"
     ]
    }
   ],
   "source": [
    "# R2\n",
    "print('훈련 데이터 셋 성능 : ', lr.score(X_train, y_train))\n",
    "print('테스트 데이터 셋 성능 : ', lr.score(X_test, y_test))\n",
    "\n",
    "# 과대적합 <- 다중공선성, 변수 多, R2"
   ]
  },
  {
   "cell_type": "code",
   "execution_count": 14,
   "id": "80032b71",
   "metadata": {},
   "outputs": [
    {
     "data": {
      "text/plain": [
       "29.252507139200617"
      ]
     },
     "execution_count": 14,
     "metadata": {},
     "output_type": "execute_result"
    }
   ],
   "source": [
    "# mse\n",
    "(resid**2).sum()/len(y_test)"
   ]
  },
  {
   "cell_type": "code",
   "execution_count": 16,
   "id": "310262a8",
   "metadata": {},
   "outputs": [
    {
     "data": {
      "text/plain": [
       "5.4085586933304715"
      ]
     },
     "execution_count": 16,
     "metadata": {},
     "output_type": "execute_result"
    }
   ],
   "source": [
    "# rmse\n",
    "np.sqrt((resid**2).sum()/len(y_test))\n",
    "\n",
    "# 평균적으로 5 정도의 차이가 있다.\n",
    "# rmse값이 작을수록 좋다."
   ]
  },
  {
   "cell_type": "code",
   "execution_count": 18,
   "id": "3aeb867c",
   "metadata": {},
   "outputs": [
    {
     "name": "stdout",
     "output_type": "stream",
     "text": [
      "29.252507139200617\n",
      "5.4085586933304715\n"
     ]
    }
   ],
   "source": [
    "from sklearn.metrics import mean_squared_error\n",
    "mse = mean_squared_error(y_test, y_pred)\n",
    "rmse = np.sqrt(mse)\n",
    "\n",
    "print(mse)\n",
    "print(rmse)"
   ]
  },
  {
   "cell_type": "code",
   "execution_count": 20,
   "id": "f7556556",
   "metadata": {},
   "outputs": [],
   "source": [
    "# R2값이 훈련데이터에 비해 테스트 데이터셋이 더 작으므로, 과대적합\n",
    "# R2값이 0.648은 좋은 성능이 아니다.\n",
    "# 모델의 성능을 높이려면, 과대적합을 조정해줘야한다. > Ridge, Lasso, ElasticNet"
   ]
  },
  {
   "cell_type": "code",
   "execution_count": 21,
   "id": "65a528ce",
   "metadata": {},
   "outputs": [
    {
     "data": {
      "text/plain": [
       "array([[0.01823449, 0.        , 0.78555718, ..., 1.        , 0.901766  ,\n",
       "        0.81318193],\n",
       "       [0.00121704, 0.2       , 0.23826979, ..., 0.99024028, 0.16475301,\n",
       "        0.02741108],\n",
       "       [0.00619828, 0.        , 0.78555718, ..., 0.98878546, 0.41789074,\n",
       "        0.17661331],\n",
       "       ...,\n",
       "       [0.00162594, 0.        , 0.35007331, ..., 0.98798327, 0.23505388,\n",
       "        0.05592233],\n",
       "       [0.0025059 , 0.        , 0.23643695, ..., 0.97913066, 0.46608557,\n",
       "        0.22186595],\n",
       "       [0.00149286, 0.        , 0.13159824, ..., 1.        , 0.35761589,\n",
       "        0.12788913]])"
      ]
     },
     "execution_count": 21,
     "metadata": {},
     "output_type": "execute_result"
    }
   ],
   "source": [
    "X_train"
   ]
  },
  {
   "cell_type": "code",
   "execution_count": 26,
   "id": "6df0e057",
   "metadata": {},
   "outputs": [
    {
     "data": {
      "text/plain": [
       "[[54851.95197767613],\n",
       " [7130.307358208186],\n",
       " [22374.003679026846],\n",
       " [inf],\n",
       " [6771.725195571671],\n",
       " [6800.801502806481],\n",
       " [10940.386138579546],\n",
       " [7326.440153114255],\n",
       " [30805.61103699408],\n",
       " [81206.29682014103],\n",
       " [10708.631478267633],\n",
       " [7673.09915025527],\n",
       " [2412.5310782263655],\n",
       " [37.29568591935402],\n",
       " [19.417800952621043],\n",
       " [325173.70523822005],\n",
       " [14.822542635807283],\n",
       " [515.0122621388858],\n",
       " [177.6698962626534],\n",
       " [844.5913175230344],\n",
       " [30.361263840820655],\n",
       " [992617.8325887014],\n",
       " [2331396.8718411014],\n",
       " [29863.383191795456],\n",
       " [44.5538239375616],\n",
       " [159.09454435610166],\n",
       " [102.57528989122348],\n",
       " [13.509943115758212],\n",
       " [6.940197261396824],\n",
       " [50.240661897464726],\n",
       " [418.7975220112337],\n",
       " [44.137292535255966],\n",
       " [171.74257241834985],\n",
       " [28.91875968665672],\n",
       " [38.43267370061432],\n",
       " [63.36677850173572],\n",
       " [5720.689018922408],\n",
       " [28.167527476576808],\n",
       " [976.1444457223474],\n",
       " [159.60310031467287],\n",
       " [4324.919106210621],\n",
       " [1405.2563175684206],\n",
       " [1312.8887738668022],\n",
       " [236.1472746520232],\n",
       " [15955.742728721658],\n",
       " [2089.0819819161215],\n",
       " [1182.2730819716621],\n",
       " [12535.760423270849],\n",
       " [680.3611244915319],\n",
       " [inf],\n",
       " [43.54460395024893],\n",
       " [66.54452884536128],\n",
       " [109.77357792721395],\n",
       " [46.706918840056126],\n",
       " [299.9566365696942],\n",
       " [581.4179288014658],\n",
       " [85.75033351489574],\n",
       " [1721.0224191287712],\n",
       " [28.873046506833695],\n",
       " [1460.6938472508925],\n",
       " [816.3944877344481],\n",
       " [2003.0770853637846],\n",
       " [228.33988622697797],\n",
       " [4687.125256661576],\n",
       " [11914.78201461558],\n",
       " [2221.4337746394094],\n",
       " [489.8957517501832],\n",
       " [426.09042536503216],\n",
       " [511.0381917123083],\n",
       " [1431.196454373623],\n",
       " [892.6111861333101],\n",
       " [1769.7700195322561],\n",
       " [3685.4182365136667],\n",
       " [1212.6116936367848],\n",
       " [1939.7178384938795],\n",
       " [271.73240131721127],\n",
       " [517.5849654039346],\n",
       " [192.68945737167698],\n",
       " [1544.8666856639843],\n",
       " [2179.227753856426],\n",
       " [942.0042722947492],\n",
       " [4824.454293806471],\n",
       " [348.6936940931124],\n",
       " [318.65110959924834],\n",
       " [147.63152523230238],\n",
       " [145.48609614531938],\n",
       " [242.36777657438887],\n",
       " [4889.377431258068],\n",
       " [146.11210677069366],\n",
       " [10769.119764749634],\n",
       " [22016.566050504647],\n",
       " [4661.350751341647],\n",
       " [13996.80735920708],\n",
       " [1116.3803685631995],\n",
       " [3293.2181411188544],\n",
       " [2255.9018623822576],\n",
       " [43271.22937793558],\n",
       " [2426.5055330537816],\n",
       " [536.9999011796662],\n",
       " [6337.725505829654],\n",
       " [597.5588322415905],\n",
       " [927.4429890846272],\n",
       " [548.5688941773963],\n",
       " [161.82339483799586]]"
      ]
     },
     "execution_count": 26,
     "metadata": {},
     "output_type": "execute_result"
    }
   ],
   "source": [
    "# 다중공선성 문제 있을 수 있다.\n",
    "from statsmodels.stats.outliers_influence import variance_inflation_factor\n",
    "vif_list = []\n",
    "for i in range(X_train.shape[1]):\n",
    "    vif_list.append([variance_inflation_factor(X_train,i)])\n",
    "vif_list"
   ]
  },
  {
   "cell_type": "code",
   "execution_count": 27,
   "id": "29f3036c",
   "metadata": {},
   "outputs": [
    {
     "data": {
      "text/html": [
       "<div>\n",
       "<style scoped>\n",
       "    .dataframe tbody tr th:only-of-type {\n",
       "        vertical-align: middle;\n",
       "    }\n",
       "\n",
       "    .dataframe tbody tr th {\n",
       "        vertical-align: top;\n",
       "    }\n",
       "\n",
       "    .dataframe thead th {\n",
       "        text-align: right;\n",
       "    }\n",
       "</style>\n",
       "<table border=\"1\" class=\"dataframe\">\n",
       "  <thead>\n",
       "    <tr style=\"text-align: right;\">\n",
       "      <th></th>\n",
       "      <th>vif</th>\n",
       "    </tr>\n",
       "  </thead>\n",
       "  <tbody>\n",
       "    <tr>\n",
       "      <th>28</th>\n",
       "      <td>6.940197</td>\n",
       "    </tr>\n",
       "  </tbody>\n",
       "</table>\n",
       "</div>"
      ],
      "text/plain": [
       "         vif\n",
       "28  6.940197"
      ]
     },
     "execution_count": 27,
     "metadata": {},
     "output_type": "execute_result"
    }
   ],
   "source": [
    "vif_dt = pd.DataFrame(vif_list,columns = ['vif'])\n",
    "vif_dt[vif_dt['vif'] < 10]"
   ]
  },
  {
   "cell_type": "code",
   "execution_count": 29,
   "id": "8b8d51ee",
   "metadata": {},
   "outputs": [],
   "source": [
    "# 10 이상이면 다중공선성 발생한다.\n",
    "# 전통적 회귀 분석에서 시간과 노력이 필요\n",
    "# 머신러닝에서는  매개변수의 알파 값만 지정해주면 Ridge, Lasso, ElasticNet을 활용하여\n",
    "# 다중공선성을 제거할 수 있다."
   ]
  },
  {
   "cell_type": "code",
   "execution_count": 30,
   "id": "321587dc",
   "metadata": {},
   "outputs": [],
   "source": [
    "# Ridge, Lasso, ElasticNet\n",
    "# alpha값 따라 과대적합, 과소적합이 발생할 수 있기 때문에\n",
    "# 최적의 alpha 값을 찾아야 한다."
   ]
  },
  {
   "cell_type": "code",
   "execution_count": 33,
   "id": "8fda98d7",
   "metadata": {},
   "outputs": [
    {
     "name": "stdout",
     "output_type": "stream",
     "text": [
      "사용한 데이터 컬럼 수 :  104\n",
      "훈련 데이터 셋 성능 :  0.8820517790991202\n",
      "테스트 데이터 셋 성능 :  0.7834459976736694\n"
     ]
    }
   ],
   "source": [
    "# Ridge\n",
    "import warnings\n",
    "warnings.filterwarnings(action = 'ignore')\n",
    "\n",
    "from sklearn.linear_model import Ridge\n",
    "\n",
    "ridge = Ridge()\n",
    "ridge.fit(X_train, y_train)\n",
    "\n",
    "# R2\n",
    "print(\"사용한 데이터 컬럼 수 : \", np.sum(ridge.coef_!=0))\n",
    "print(\"훈련 데이터 셋 성능 : \", ridge.score(X_train, y_train))\n",
    "print(\"테스트 데이터 셋 성능 : \", ridge.score(X_test, y_test))"
   ]
  },
  {
   "cell_type": "code",
   "execution_count": 34,
   "id": "6b445f0d",
   "metadata": {},
   "outputs": [],
   "source": [
    "# alpha = 1로 하였을 때 R2 0.78\n",
    "# LinearGression 모델의 0.648 보다는 성능이 좋지만\n",
    "# alpha = 1로 하였을 때 Ridge의 최적화된 값임은 알 수 없다."
   ]
  },
  {
   "cell_type": "code",
   "execution_count": 36,
   "id": "35ebaad6",
   "metadata": {},
   "outputs": [
    {
     "data": {
      "text/plain": [
       "GridSearchCV(estimator=Ridge(),\n",
       "             param_grid={'alpha': (0.0001, 0.0005, 0.001, 0.005, 0.01, 0.05,\n",
       "                                   0.1, 0.15, 0.2, 0.25, 0.3, 0.5, 1, 2, 3)})"
      ]
     },
     "execution_count": 36,
     "metadata": {},
     "output_type": "execute_result"
    }
   ],
   "source": [
    "from sklearn.model_selection import GridSearchCV\n",
    "ridege = Ridge()\n",
    "param_grid = {'alpha':(0.0001,0.0005,0.001,0.005, 0.01,0.05,0.1, 0.15, 0.2, 0.25, 0.3,0.5,1,2,3)}\n",
    "model = GridSearchCV(ridge, param_grid)\n",
    "model.fit(X_train, y_train)"
   ]
  },
  {
   "cell_type": "code",
   "execution_count": 37,
   "id": "8883e198",
   "metadata": {},
   "outputs": [
    {
     "data": {
      "text/plain": [
       "Ridge(alpha=0.05)"
      ]
     },
     "execution_count": 37,
     "metadata": {},
     "output_type": "execute_result"
    }
   ],
   "source": [
    "model.best_estimator_"
   ]
  },
  {
   "cell_type": "code",
   "execution_count": 38,
   "id": "0ec9a9dc",
   "metadata": {},
   "outputs": [
    {
     "data": {
      "text/plain": [
       "Ridge(alpha=0.05)"
      ]
     },
     "execution_count": 38,
     "metadata": {},
     "output_type": "execute_result"
    }
   ],
   "source": [
    "ridge = Ridge(alpha = 0.05)\n",
    "ridge.fit(X_train, y_train)"
   ]
  },
  {
   "cell_type": "code",
   "execution_count": 39,
   "id": "a237d638",
   "metadata": {},
   "outputs": [
    {
     "name": "stdout",
     "output_type": "stream",
     "text": [
      "사용한 데이터 컬럼 수 :  104\n",
      "훈련 데이터 셋 성능 :  0.9333679643206895\n",
      "테스트 데이터 셋 성능 :  0.7877067511712773\n"
     ]
    }
   ],
   "source": [
    "# R2\n",
    "print(\"사용한 데이터 컬럼 수 : \", np.sum(ridge.coef_!=0))\n",
    "print(\"훈련 데이터 셋 성능 : \", ridge.score(X_train, y_train))\n",
    "print(\"테스트 데이터 셋 성능 : \", ridge.score(X_test, y_test))"
   ]
  },
  {
   "cell_type": "code",
   "execution_count": 40,
   "id": "3d95534a",
   "metadata": {},
   "outputs": [
    {
     "data": {
      "text/plain": [
       "Lasso()"
      ]
     },
     "execution_count": 40,
     "metadata": {},
     "output_type": "execute_result"
    }
   ],
   "source": [
    "# Lasso ( 사용된 데이터 컬럼 수 줄이기)\n",
    "\n",
    "from sklearn.linear_model import Lasso\n",
    "lasso = Lasso()\n",
    "lasso.fit(X_train, y_train)"
   ]
  },
  {
   "cell_type": "code",
   "execution_count": 41,
   "id": "cea44ed8",
   "metadata": {},
   "outputs": [
    {
     "name": "stdout",
     "output_type": "stream",
     "text": [
      "사용한 데이터 컬럼 수 :  3\n",
      "훈련 데이터 셋 성능 :  0.26489481124592407\n",
      "테스트 데이터 셋 성능 :  0.2136447822416102\n"
     ]
    }
   ],
   "source": [
    "# R2\n",
    "print(\"사용한 데이터 컬럼 수 : \", np.sum(lasso.coef_!=0))\n",
    "print(\"훈련 데이터 셋 성능 : \", lasso.score(X_train, y_train))\n",
    "print(\"테스트 데이터 셋 성능 : \", lasso.score(X_test, y_test))"
   ]
  },
  {
   "cell_type": "code",
   "execution_count": 42,
   "id": "5364d8ba",
   "metadata": {},
   "outputs": [],
   "source": [
    "# Lasso의 경우 Ridge와는 다르게 사용하는 데이터 컬럼 자체를 0으로 만들어 변수 선택법과 같이 삭제를 해줄 수 있다. \n",
    "# 위의 결과값의 경우 훈련데이터셋 자체에 성능이 낮으므로 과소적합이 되었음을 알 수 있다. \n",
    "# 과소적합을 해결하기 위해 alpha값을 조정한다. "
   ]
  },
  {
   "cell_type": "code",
   "execution_count": 44,
   "id": "a16e1a39",
   "metadata": {},
   "outputs": [
    {
     "name": "stdout",
     "output_type": "stream",
     "text": [
      "best model :  Lasso(alpha=0.002)\n"
     ]
    }
   ],
   "source": [
    "lasso = Lasso()\n",
    "param_grid = {'alpha':(0.0001,0.0005,0.001,0.002, 0.003, 0.005, 0.01,0.05,0.1, 0.15, 0.2, 0.25, 0.3,0.5,1,2,3)}\n",
    "model_lasso = GridSearchCV(lasso, param_grid)\n",
    "model_lasso = model_lasso.fit(X_train, y_train)\n",
    "\n",
    "print('best model : ', model_lasso.best_estimator_)\n"
   ]
  },
  {
   "cell_type": "code",
   "execution_count": 45,
   "id": "56461326",
   "metadata": {},
   "outputs": [
    {
     "name": "stdout",
     "output_type": "stream",
     "text": [
      "사용한 데이터 컬럼 수 :  59\n",
      "훈련 데이터 셋 성능 :  0.9303367526733315\n",
      "테스트 데이터 셋 성능 :  0.7929168170231428\n"
     ]
    }
   ],
   "source": [
    "lasso = Lasso(alpha = 0.002)\n",
    "lasso.fit(X_train, y_train)\n",
    "# R2\n",
    "print(\"사용한 데이터 컬럼 수 : \", np.sum(lasso.coef_!=0))\n",
    "print(\"훈련 데이터 셋 성능 : \", lasso.score(X_train, y_train))\n",
    "print(\"테스트 데이터 셋 성능 : \", lasso.score(X_test, y_test))"
   ]
  },
  {
   "cell_type": "code",
   "execution_count": 47,
   "id": "b1d97ca2",
   "metadata": {},
   "outputs": [],
   "source": [
    "# 59개의 데이터를 사용하고 패널티를 적용하였을 때, Lasso의 경우 0.79의 설명력을 가짐을 알 수 있다. "
   ]
  },
  {
   "cell_type": "code",
   "execution_count": 51,
   "id": "b70cefaf",
   "metadata": {},
   "outputs": [
    {
     "name": "stdout",
     "output_type": "stream",
     "text": [
      "훈련 데이터 셋 성능 :  0.3096253527541134\n",
      "테스트 데이터 셋 성능 :  0.2561599717003974\n"
     ]
    }
   ],
   "source": [
    "from sklearn.linear_model import ElasticNet\n",
    "elastic = ElasticNet()\n",
    "elastic.fit(X_train, y_train)\n",
    "## R2 \n",
    "print(\"훈련 데이터 셋 성능 : \", elastic.score(X_train,y_train))\n",
    "print(\"테스트 데이터 셋 성능 : \", elastic.score(X_test,y_test))"
   ]
  },
  {
   "cell_type": "code",
   "execution_count": 52,
   "id": "7eb6c9fc",
   "metadata": {},
   "outputs": [
    {
     "name": "stdout",
     "output_type": "stream",
     "text": [
      "best_model:  ElasticNet(alpha=0.0005, l1_ratio=0.2)\n",
      "훈련 데이터 셋 성능 :  0.9231617946389865\n",
      "테스트 데이터 셋 성능 :  0.8045378750963652\n"
     ]
    }
   ],
   "source": [
    "# 과소적합\n",
    "elastic = ElasticNet() \n",
    "param_grid = {'alpha':(0.0001,0.0005,0.001,0.005, 0.01,0.05,0.1, 0.15, 0.2, 0.25, 0.3,0.5,1,2,3), \n",
    "              'l1_ratio' : [0.1,0.2,0.3,0.4,0.5,0.6,0.7,0.8, 0.9]}\n",
    "model_elastic = GridSearchCV(elastic, param_grid)\n",
    "model_elastic.fit(X_train,y_train)\n",
    "\n",
    "print(\"best_model: \", model_elastic.best_estimator_)\n",
    "print(\"훈련 데이터 셋 성능 : \", model_elastic.score(X_train,y_train))\n",
    "print(\"테스트 데이터 셋 성능 : \", model_elastic.score(X_test,y_test))"
   ]
  },
  {
   "cell_type": "code",
   "execution_count": 53,
   "id": "8fbd7a2d",
   "metadata": {},
   "outputs": [
    {
     "data": {
      "text/plain": [
       "ElasticNet(alpha=0.0005, l1_ratio=0.2)"
      ]
     },
     "execution_count": 53,
     "metadata": {},
     "output_type": "execute_result"
    }
   ],
   "source": [
    "model_elastic =  ElasticNet(alpha=0.0005, l1_ratio=0.2)\n",
    "model_elastic.fit(X_train,y_train)\n"
   ]
  },
  {
   "cell_type": "code",
   "execution_count": 54,
   "id": "f0944122",
   "metadata": {},
   "outputs": [
    {
     "name": "stdout",
     "output_type": "stream",
     "text": [
      "사용한 데이터 컬럼 수 :  100\n",
      "훈련 데이터 셋 성능 :  0.9231617946389865\n",
      "테스트 데이터 셋 성능 :  0.8045378750963652\n"
     ]
    }
   ],
   "source": [
    "print(\"사용한 데이터 컬럼 수 : \", np.sum(model_elastic.coef_!=0))\n",
    "print(\"훈련 데이터 셋 성능 : \", model_elastic.score(X_train,y_train))\n",
    "print(\"테스트 데이터 셋 성능 : \", model_elastic.score(X_test,y_test))"
   ]
  },
  {
   "cell_type": "code",
   "execution_count": null,
   "id": "c6470724",
   "metadata": {},
   "outputs": [],
   "source": [
    "# 100개의 데이터 컬럼을 사용하고 패널티를 적용하였을 때, Elastic의 경우 0.80의 설명력을 가짐을 알 수 있다."
   ]
  },
  {
   "cell_type": "code",
   "execution_count": 55,
   "id": "f46fb4a7",
   "metadata": {},
   "outputs": [
    {
     "data": {
      "text/plain": [
       "array([ -2.33849549,  -3.62982675,  -2.83691459,   0.        ,\n",
       "         3.34284624,  16.04925785,   5.13667101, -11.54273102,\n",
       "        12.44636614,  -1.04609453,  -0.29518919,   5.41442121,\n",
       "        -2.06165762,   5.24992843,   0.        ,  -1.21304457,\n",
       "         3.0841446 ,  -2.58634775,   0.26703777,  -2.90016483,\n",
       "         0.15880151,  -3.32720733,  -2.60708691,  -2.44516335,\n",
       "         0.11268821,  -1.81018985,   2.38802307,  -3.66609785,\n",
       "         2.74312292,  -2.2078981 ,   8.1939636 ,  -3.55752882,\n",
       "         0.57861372,   0.61029713,   1.74175884,   1.77612306,\n",
       "        -2.60255806,  -6.19562821,   5.20189945,   1.73036241,\n",
       "         8.75422258,   0.54851109,   6.9708351 ,  -3.45956274,\n",
       "         4.72375302,   4.42921655,  -8.12514644,  -1.50973875,\n",
       "       -13.32452568,   0.        , -14.14670369, -14.28266065,\n",
       "         5.9148633 ,  -0.2272377 ,   6.26478033,   3.70465625,\n",
       "         1.15072035,   7.8451777 ,  -7.61359622,  -1.391521  ,\n",
       "        -3.94072295,  -5.89538494,  -0.        ,  -4.31829472,\n",
       "        -2.94189133,  -4.89115292,  -0.45156608,   0.96442606,\n",
       "        20.66211708,  -6.99632849,   5.13429837, -14.26997902,\n",
       "       -14.50553345, -15.47383937,  13.95142219,  -8.0058423 ,\n",
       "         0.37681939,   0.25773927,   7.70643925,  -4.14779322,\n",
       "        -0.96895956,  -3.86680805, -11.42460159,   7.41228739,\n",
       "         0.28306504,   0.35912324,  -0.38588821,  -7.78361983,\n",
       "         2.62355224,  -5.74608712,   2.14739227,   4.15405789,\n",
       "        -1.19849271, -11.50716215,   2.82809824,   9.40462888,\n",
       "        -1.86588675, -12.19716287,   3.98213363,  -2.25462089,\n",
       "         4.36991294,   2.52240693,  -6.38425757,  22.79770068])"
      ]
     },
     "execution_count": 55,
     "metadata": {},
     "output_type": "execute_result"
    }
   ],
   "source": [
    " model_elastic.coef_"
   ]
  },
  {
   "cell_type": "code",
   "execution_count": 57,
   "id": "0af3cc18",
   "metadata": {},
   "outputs": [],
   "source": [
    "# 회귀 계수를 해석해야 할 경우, 0인 값을 제외하고 위와같이 패널티가 적용된 회귀계수를 가지고 해석하면 된다. \n",
    "# > 전통적 통계분석과 동일하게 진행하면 된다."
   ]
  },
  {
   "cell_type": "code",
   "execution_count": null,
   "id": "427be7c1",
   "metadata": {},
   "outputs": [],
   "source": []
  },
  {
   "cell_type": "code",
   "execution_count": null,
   "id": "f9a273fc",
   "metadata": {},
   "outputs": [],
   "source": []
  },
  {
   "cell_type": "code",
   "execution_count": null,
   "id": "e2c15caf",
   "metadata": {},
   "outputs": [],
   "source": []
  },
  {
   "cell_type": "code",
   "execution_count": null,
   "id": "f6e0ff48",
   "metadata": {},
   "outputs": [],
   "source": []
  },
  {
   "cell_type": "code",
   "execution_count": null,
   "id": "4ccecfff",
   "metadata": {},
   "outputs": [],
   "source": []
  },
  {
   "cell_type": "code",
   "execution_count": null,
   "id": "f28e6a8d",
   "metadata": {},
   "outputs": [],
   "source": []
  },
  {
   "cell_type": "code",
   "execution_count": null,
   "id": "62596b56",
   "metadata": {},
   "outputs": [],
   "source": []
  },
  {
   "cell_type": "code",
   "execution_count": null,
   "id": "990ef526",
   "metadata": {},
   "outputs": [],
   "source": []
  },
  {
   "cell_type": "code",
   "execution_count": null,
   "id": "5a354a27",
   "metadata": {},
   "outputs": [],
   "source": [
    " "
   ]
  },
  {
   "cell_type": "code",
   "execution_count": null,
   "id": "238e9a63",
   "metadata": {},
   "outputs": [],
   "source": []
  },
  {
   "cell_type": "code",
   "execution_count": null,
   "id": "1eed5ff0",
   "metadata": {},
   "outputs": [],
   "source": []
  },
  {
   "cell_type": "code",
   "execution_count": null,
   "id": "0c9feacd",
   "metadata": {},
   "outputs": [],
   "source": []
  },
  {
   "cell_type": "code",
   "execution_count": null,
   "id": "78a813d4",
   "metadata": {},
   "outputs": [],
   "source": []
  },
  {
   "cell_type": "code",
   "execution_count": null,
   "id": "c4a85ff2",
   "metadata": {},
   "outputs": [],
   "source": []
  },
  {
   "cell_type": "code",
   "execution_count": null,
   "id": "b1fcbebb",
   "metadata": {},
   "outputs": [],
   "source": []
  },
  {
   "cell_type": "code",
   "execution_count": null,
   "id": "c07a2b7b",
   "metadata": {},
   "outputs": [],
   "source": []
  },
  {
   "cell_type": "code",
   "execution_count": null,
   "id": "9c2dc793",
   "metadata": {},
   "outputs": [],
   "source": []
  },
  {
   "cell_type": "code",
   "execution_count": null,
   "id": "9ffee068",
   "metadata": {},
   "outputs": [],
   "source": []
  },
  {
   "cell_type": "code",
   "execution_count": null,
   "id": "e251e4a8",
   "metadata": {},
   "outputs": [],
   "source": []
  },
  {
   "cell_type": "code",
   "execution_count": null,
   "id": "a9389bb6",
   "metadata": {},
   "outputs": [],
   "source": [
    " "
   ]
  }
 ],
 "metadata": {
  "kernelspec": {
   "display_name": "Python 3 (ipykernel)",
   "language": "python",
   "name": "python3"
  },
  "language_info": {
   "codemirror_mode": {
    "name": "ipython",
    "version": 3
   },
   "file_extension": ".py",
   "mimetype": "text/x-python",
   "name": "python",
   "nbconvert_exporter": "python",
   "pygments_lexer": "ipython3",
   "version": "3.9.12"
  }
 },
 "nbformat": 4,
 "nbformat_minor": 5
}
