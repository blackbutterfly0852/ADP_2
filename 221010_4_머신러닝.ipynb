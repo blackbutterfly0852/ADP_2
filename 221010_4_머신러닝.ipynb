{
 "cells": [
  {
   "cell_type": "code",
   "execution_count": 2,
   "id": "7efc2147",
   "metadata": {},
   "outputs": [],
   "source": [
    "import pandas as pd"
   ]
  },
  {
   "cell_type": "code",
   "execution_count": 4,
   "id": "611711bc",
   "metadata": {},
   "outputs": [],
   "source": [
    "df = pd.read_csv('data/kc_house_data.csv')\n",
    "df = df.drop(['id','date'], axis = 1)\n",
    "\n",
    "X = df.drop(['price'], axis = 1)\n",
    "y = df['price']\n",
    "\n",
    "X = pd.get_dummies(data = X, columns = ['waterfront'])\n",
    "\n",
    "from sklearn.model_selection import train_test_split\n",
    "X_train, X_test, y_train, y_test = train_test_split(X, y, test_size = 0.3, random_state = 2021)"
   ]
  },
  {
   "cell_type": "code",
   "execution_count": 5,
   "id": "f99c24be",
   "metadata": {},
   "outputs": [
    {
     "name": "stdout",
     "output_type": "stream",
     "text": [
      "0.9518102380206253\n",
      "0.7442944609585675\n"
     ]
    }
   ],
   "source": [
    "from sklearn.ensemble import BaggingRegressor\n",
    "model_bag_reg = BaggingRegressor()\n",
    "model_bag_reg.fit(X_train, y_train)\n",
    "print(model_bag_reg.score(X_train, y_train))\n",
    "print(model_bag_reg.score(X_test, y_test))"
   ]
  },
  {
   "cell_type": "code",
   "execution_count": 7,
   "id": "18721a8c",
   "metadata": {},
   "outputs": [
    {
     "name": "stdout",
     "output_type": "stream",
     "text": [
      "oob score : 0.7538787915459161\n"
     ]
    }
   ],
   "source": [
    "# out of bag 샘플을 활용한 성능 측정\n",
    "model_bag_reg_oob = BaggingRegressor(n_estimators = 100, oob_score = True) # 100개의 분류기\n",
    "model_bag_reg_oob.fit(X,y)\n",
    "print(f\"oob score : {model_bag_reg_oob.oob_score_}\")"
   ]
  },
  {
   "cell_type": "code",
   "execution_count": 9,
   "id": "d8f8fb02",
   "metadata": {},
   "outputs": [
    {
     "name": "stdout",
     "output_type": "stream",
     "text": [
      "0.9641174413815057\n",
      "0.7607720704143215\n"
     ]
    }
   ],
   "source": [
    "# 홀드아웃 기법\n",
    "model_bag_reg = BaggingRegressor(n_estimators = 100) # 100개의 분류기\n",
    "model_bag_reg.fit(X_train,y_train)\n",
    "print(model_bag_reg.score(X_train, y_train))\n",
    "print(model_bag_reg.score(X_test, y_test))"
   ]
  },
  {
   "cell_type": "code",
   "execution_count": 16,
   "id": "232a79f7",
   "metadata": {},
   "outputs": [
    {
     "data": {
      "text/plain": [
       "array([0.00723882, 0.01980069, 0.23344346, 0.04280694, 0.00490468,\n",
       "       0.01379537, 0.01053563, 0.39788915, 0.0199971 , 0.01273498,\n",
       "       0.09407547, 0.00313086, 0.06739365, 0.0431656 , 0.01832363,\n",
       "       0.01076397])"
      ]
     },
     "execution_count": 16,
     "metadata": {},
     "output_type": "execute_result"
    }
   ],
   "source": [
    "# 변수의 중요도 확인\n",
    "# feature_importances가 클 수록 회귀계수에 큰 영향, 분류기에 큰 영향\n",
    "from sklearn import tree\n",
    "model_bag_reg.estimators_[0].feature_importances_"
   ]
  },
  {
   "cell_type": "code",
   "execution_count": 18,
   "id": "d2f51b5d",
   "metadata": {},
   "outputs": [
    {
     "data": {
      "text/html": [
       "<div>\n",
       "<style scoped>\n",
       "    .dataframe tbody tr th:only-of-type {\n",
       "        vertical-align: middle;\n",
       "    }\n",
       "\n",
       "    .dataframe tbody tr th {\n",
       "        vertical-align: top;\n",
       "    }\n",
       "\n",
       "    .dataframe thead th {\n",
       "        text-align: right;\n",
       "    }\n",
       "</style>\n",
       "<table border=\"1\" class=\"dataframe\">\n",
       "  <thead>\n",
       "    <tr style=\"text-align: right;\">\n",
       "      <th></th>\n",
       "      <th>col_name</th>\n",
       "      <th>feature_importance</th>\n",
       "    </tr>\n",
       "  </thead>\n",
       "  <tbody>\n",
       "    <tr>\n",
       "      <th>0</th>\n",
       "      <td>bedrooms</td>\n",
       "      <td>0.008552</td>\n",
       "    </tr>\n",
       "    <tr>\n",
       "      <th>1</th>\n",
       "      <td>bathrooms</td>\n",
       "      <td>0.022171</td>\n",
       "    </tr>\n",
       "    <tr>\n",
       "      <th>2</th>\n",
       "      <td>sqft_living</td>\n",
       "      <td>0.271522</td>\n",
       "    </tr>\n",
       "    <tr>\n",
       "      <th>3</th>\n",
       "      <td>sqft_lot</td>\n",
       "      <td>0.034706</td>\n",
       "    </tr>\n",
       "    <tr>\n",
       "      <th>4</th>\n",
       "      <td>floors</td>\n",
       "      <td>0.005862</td>\n",
       "    </tr>\n",
       "    <tr>\n",
       "      <th>5</th>\n",
       "      <td>view</td>\n",
       "      <td>0.022855</td>\n",
       "    </tr>\n",
       "    <tr>\n",
       "      <th>6</th>\n",
       "      <td>condition</td>\n",
       "      <td>0.006779</td>\n",
       "    </tr>\n",
       "    <tr>\n",
       "      <th>7</th>\n",
       "      <td>grade</td>\n",
       "      <td>0.354782</td>\n",
       "    </tr>\n",
       "    <tr>\n",
       "      <th>8</th>\n",
       "      <td>sqft_above</td>\n",
       "      <td>0.026353</td>\n",
       "    </tr>\n",
       "    <tr>\n",
       "      <th>9</th>\n",
       "      <td>sqft_basement</td>\n",
       "      <td>0.012748</td>\n",
       "    </tr>\n",
       "    <tr>\n",
       "      <th>10</th>\n",
       "      <td>yr_built</td>\n",
       "      <td>0.102777</td>\n",
       "    </tr>\n",
       "    <tr>\n",
       "      <th>11</th>\n",
       "      <td>yr_renovated</td>\n",
       "      <td>0.004669</td>\n",
       "    </tr>\n",
       "    <tr>\n",
       "      <th>12</th>\n",
       "      <td>sqft_living15</td>\n",
       "      <td>0.063257</td>\n",
       "    </tr>\n",
       "    <tr>\n",
       "      <th>13</th>\n",
       "      <td>sqft_lot15</td>\n",
       "      <td>0.043674</td>\n",
       "    </tr>\n",
       "    <tr>\n",
       "      <th>14</th>\n",
       "      <td>waterfront_river_view</td>\n",
       "      <td>0.008999</td>\n",
       "    </tr>\n",
       "    <tr>\n",
       "      <th>15</th>\n",
       "      <td>waterfront_standard</td>\n",
       "      <td>0.010294</td>\n",
       "    </tr>\n",
       "  </tbody>\n",
       "</table>\n",
       "</div>"
      ],
      "text/plain": [
       "                 col_name  feature_importance\n",
       "0                bedrooms            0.008552\n",
       "1               bathrooms            0.022171\n",
       "2             sqft_living            0.271522\n",
       "3                sqft_lot            0.034706\n",
       "4                  floors            0.005862\n",
       "5                    view            0.022855\n",
       "6               condition            0.006779\n",
       "7                   grade            0.354782\n",
       "8              sqft_above            0.026353\n",
       "9           sqft_basement            0.012748\n",
       "10               yr_built            0.102777\n",
       "11           yr_renovated            0.004669\n",
       "12          sqft_living15            0.063257\n",
       "13             sqft_lot15            0.043674\n",
       "14  waterfront_river_view            0.008999\n",
       "15    waterfront_standard            0.010294"
      ]
     },
     "execution_count": 18,
     "metadata": {},
     "output_type": "execute_result"
    }
   ],
   "source": [
    "import numpy as np\n",
    "importances = pd.DataFrame(np.mean([tree.feature_importances_ for tree in model_bag_reg.estimators_], axis = 0))\n",
    "feature_importances = pd.concat([pd.DataFrame(X.columns), importances], axis = 1)\n",
    "feature_importances.columns = ['col_name', 'feature_importance']\n",
    "feature_importances\n",
    "# 변수의 상대적 중요도를 보았을 때, 회귀 계수 처럼 파악을 할 수 있다.\n",
    "# 변수 중요다가 큰 것을 판단할 수 있다."
   ]
  },
  {
   "cell_type": "code",
   "execution_count": 19,
   "id": "007d0192",
   "metadata": {},
   "outputs": [],
   "source": [
    " feature_importances = feature_importances.sort_values(by = 'feature_importance', ascending=False).reset_index(drop = True)"
   ]
  },
  {
   "cell_type": "code",
   "execution_count": 20,
   "id": "253054ac",
   "metadata": {},
   "outputs": [
    {
     "data": {
      "text/html": [
       "<div>\n",
       "<style scoped>\n",
       "    .dataframe tbody tr th:only-of-type {\n",
       "        vertical-align: middle;\n",
       "    }\n",
       "\n",
       "    .dataframe tbody tr th {\n",
       "        vertical-align: top;\n",
       "    }\n",
       "\n",
       "    .dataframe thead th {\n",
       "        text-align: right;\n",
       "    }\n",
       "</style>\n",
       "<table border=\"1\" class=\"dataframe\">\n",
       "  <thead>\n",
       "    <tr style=\"text-align: right;\">\n",
       "      <th></th>\n",
       "      <th>col_name</th>\n",
       "      <th>feature_importance</th>\n",
       "    </tr>\n",
       "  </thead>\n",
       "  <tbody>\n",
       "    <tr>\n",
       "      <th>0</th>\n",
       "      <td>grade</td>\n",
       "      <td>0.354782</td>\n",
       "    </tr>\n",
       "    <tr>\n",
       "      <th>1</th>\n",
       "      <td>sqft_living</td>\n",
       "      <td>0.271522</td>\n",
       "    </tr>\n",
       "    <tr>\n",
       "      <th>2</th>\n",
       "      <td>yr_built</td>\n",
       "      <td>0.102777</td>\n",
       "    </tr>\n",
       "    <tr>\n",
       "      <th>3</th>\n",
       "      <td>sqft_living15</td>\n",
       "      <td>0.063257</td>\n",
       "    </tr>\n",
       "    <tr>\n",
       "      <th>4</th>\n",
       "      <td>sqft_lot15</td>\n",
       "      <td>0.043674</td>\n",
       "    </tr>\n",
       "    <tr>\n",
       "      <th>5</th>\n",
       "      <td>sqft_lot</td>\n",
       "      <td>0.034706</td>\n",
       "    </tr>\n",
       "    <tr>\n",
       "      <th>6</th>\n",
       "      <td>sqft_above</td>\n",
       "      <td>0.026353</td>\n",
       "    </tr>\n",
       "    <tr>\n",
       "      <th>7</th>\n",
       "      <td>view</td>\n",
       "      <td>0.022855</td>\n",
       "    </tr>\n",
       "    <tr>\n",
       "      <th>8</th>\n",
       "      <td>bathrooms</td>\n",
       "      <td>0.022171</td>\n",
       "    </tr>\n",
       "    <tr>\n",
       "      <th>9</th>\n",
       "      <td>sqft_basement</td>\n",
       "      <td>0.012748</td>\n",
       "    </tr>\n",
       "    <tr>\n",
       "      <th>10</th>\n",
       "      <td>waterfront_standard</td>\n",
       "      <td>0.010294</td>\n",
       "    </tr>\n",
       "    <tr>\n",
       "      <th>11</th>\n",
       "      <td>waterfront_river_view</td>\n",
       "      <td>0.008999</td>\n",
       "    </tr>\n",
       "    <tr>\n",
       "      <th>12</th>\n",
       "      <td>bedrooms</td>\n",
       "      <td>0.008552</td>\n",
       "    </tr>\n",
       "    <tr>\n",
       "      <th>13</th>\n",
       "      <td>condition</td>\n",
       "      <td>0.006779</td>\n",
       "    </tr>\n",
       "    <tr>\n",
       "      <th>14</th>\n",
       "      <td>floors</td>\n",
       "      <td>0.005862</td>\n",
       "    </tr>\n",
       "    <tr>\n",
       "      <th>15</th>\n",
       "      <td>yr_renovated</td>\n",
       "      <td>0.004669</td>\n",
       "    </tr>\n",
       "  </tbody>\n",
       "</table>\n",
       "</div>"
      ],
      "text/plain": [
       "                 col_name  feature_importance\n",
       "0                   grade            0.354782\n",
       "1             sqft_living            0.271522\n",
       "2                yr_built            0.102777\n",
       "3           sqft_living15            0.063257\n",
       "4              sqft_lot15            0.043674\n",
       "5                sqft_lot            0.034706\n",
       "6              sqft_above            0.026353\n",
       "7                    view            0.022855\n",
       "8               bathrooms            0.022171\n",
       "9           sqft_basement            0.012748\n",
       "10    waterfront_standard            0.010294\n",
       "11  waterfront_river_view            0.008999\n",
       "12               bedrooms            0.008552\n",
       "13              condition            0.006779\n",
       "14                 floors            0.005862\n",
       "15           yr_renovated            0.004669"
      ]
     },
     "execution_count": 20,
     "metadata": {},
     "output_type": "execute_result"
    }
   ],
   "source": [
    "feature_importances"
   ]
  },
  {
   "cell_type": "code",
   "execution_count": 21,
   "id": "9d4a37ff",
   "metadata": {},
   "outputs": [],
   "source": [
    "import matplotlib.pyplot as plt"
   ]
  },
  {
   "cell_type": "code",
   "execution_count": 22,
   "id": "6adbe9b9",
   "metadata": {},
   "outputs": [
    {
     "data": {
      "image/png": "[encoded data removed]",
      "text/plain": [
       "<Figure size 640x480 with 1 Axes>"
      ]
     },
     "metadata": {},
     "output_type": "display_data"
    }
   ],
   "source": [
    "plt.barh(feature_importances['col_name'], feature_importances['feature_importance'], align = 'center')\n",
    "plt.xlabel('feature importance', size = 15)\n",
    "plt.ylabel('feature', size = 15)\n",
    "plt.show()"
   ]
  },
  {
   "cell_type": "code",
   "execution_count": null,
   "id": "b1fa0dc1",
   "metadata": {},
   "outputs": [],
   "source": [
    "# 의사결정나무 기반(배깅, 부스팅, 랜던포레스트) 알고리즘은 회귀계수를 직접 추출 X > 설명력은 낮지만 > 정확도는 높다."
   ]
  },
  {
   "cell_type": "code",
   "execution_count": null,
   "id": "f684af4f",
   "metadata": {},
   "outputs": [],
   "source": []
  },
  {
   "cell_type": "code",
   "execution_count": null,
   "id": "cf591084",
   "metadata": {},
   "outputs": [],
   "source": []
  },
  {
   "cell_type": "code",
   "execution_count": null,
   "id": "20ffce38",
   "metadata": {},
   "outputs": [],
   "source": []
  },
  {
   "cell_type": "code",
   "execution_count": null,
   "id": "9c70e858",
   "metadata": {},
   "outputs": [],
   "source": []
  },
  {
   "cell_type": "code",
   "execution_count": null,
   "id": "5b75eda1",
   "metadata": {},
   "outputs": [],
   "source": []
  },
  {
   "cell_type": "code",
   "execution_count": null,
   "id": "e81c1000",
   "metadata": {},
   "outputs": [],
   "source": []
  },
  {
   "cell_type": "code",
   "execution_count": null,
   "id": "2718a0e2",
   "metadata": {},
   "outputs": [],
   "source": []
  },
  {
   "cell_type": "code",
   "execution_count": null,
   "id": "b0824e94",
   "metadata": {},
   "outputs": [],
   "source": []
  }
 ],
 "metadata": {
  "kernelspec": {
   "display_name": "Python 3 (ipykernel)",
   "language": "python",
   "name": "python3"
  },
  "language_info": {
   "codemirror_mode": {
    "name": "ipython",
    "version": 3
   },
   "file_extension": ".py",
   "mimetype": "text/x-python",
   "name": "python",
   "nbconvert_exporter": "python",
   "pygments_lexer": "ipython3",
   "version": "3.10.6"
  }
 },
 "nbformat": 4,
 "nbformat_minor": 5
}
