{
 "cells": [
  {
   "cell_type": "markdown",
   "id": "5de06522",
   "metadata": {
    "toc": true
   },
   "source": [
    "<h1>Table of Contents<span class=\"tocSkip\"></span></h1>\n",
    "<div class=\"toc\"><ul class=\"toc-item\"><li><span><a href=\"#Cars93-데이터로-SVM과-인공신경망-모델을-이용해-회귀분석-후-R2와-RMSE을-구하고-비교하세요\" data-toc-modified-id=\"Cars93-데이터로-SVM과-인공신경망-모델을-이용해-회귀분석-후-R2와-RMSE을-구하고-비교하세요-1\"><span class=\"toc-item-num\">1&nbsp;&nbsp;</span>Cars93 데이터로 SVM과 인공신경망 모델을 이용해 회귀분석 후 R2와 RMSE을 구하고 비교하세요</a></span></li><li><span><a href=\"#titanic-데이터로-나이브베이즈-,-SVM,--인공신경망,-KNN-모델을-이용해-분류분석-후-최적의-모델을-선정하고-그-이유를-작성하세요.\" data-toc-modified-id=\"titanic-데이터로-나이브베이즈-,-SVM,--인공신경망,-KNN-모델을-이용해-분류분석-후-최적의-모델을-선정하고-그-이유를-작성하세요.-2\"><span class=\"toc-item-num\">2&nbsp;&nbsp;</span>titanic 데이터로 나이브베이즈 , SVM,  인공신경망, KNN 모델을 이용해 분류분석 후 최적의 모델을 선정하고 그 이유를 작성하세요.</a></span></li></ul></div>"
   ]
  },
  {
   "cell_type": "markdown",
   "id": "a166830b",
   "metadata": {},
   "source": [
    "## Cars93 데이터로 SVM과 인공신경망 모델을 이용해 회귀분석 후 R2와 RMSE을 구하고 비교하세요 \n",
    "* 종속변수 y = Price \n",
    "* 독립변수 X = price제외 \n",
    "\n"
   ]
  },
  {
   "cell_type": "code",
   "execution_count": 9,
   "id": "b1196e8a",
   "metadata": {},
   "outputs": [],
   "source": [
    "import pandas as pd \n",
    "df = pd.read_csv('data/Cars93.csv')"
   ]
  },
  {
   "cell_type": "code",
   "execution_count": 10,
   "id": "2ad5559d",
   "metadata": {},
   "outputs": [
    {
     "name": "stdout",
     "output_type": "stream",
     "text": [
      "<class 'pandas.core.frame.DataFrame'>\n",
      "RangeIndex: 93 entries, 0 to 92\n",
      "Data columns (total 27 columns):\n",
      " #   Column              Non-Null Count  Dtype  \n",
      "---  ------              --------------  -----  \n",
      " 0   Manufacturer        93 non-null     object \n",
      " 1   Model               93 non-null     object \n",
      " 2   Type                93 non-null     object \n",
      " 3   Min.Price           93 non-null     float64\n",
      " 4   Price               93 non-null     float64\n",
      " 5   Max.Price           93 non-null     float64\n",
      " 6   MPG.city            93 non-null     int64  \n",
      " 7   MPG.highway         93 non-null     int64  \n",
      " 8   AirBags             93 non-null     object \n",
      " 9   DriveTrain          93 non-null     object \n",
      " 10  Cylinders           93 non-null     object \n",
      " 11  EngineSize          93 non-null     float64\n",
      " 12  Horsepower          93 non-null     int64  \n",
      " 13  RPM                 93 non-null     int64  \n",
      " 14  Rev.per.mile        93 non-null     int64  \n",
      " 15  Man.trans.avail     93 non-null     object \n",
      " 16  Fuel.tank.capacity  93 non-null     float64\n",
      " 17  Passengers          93 non-null     int64  \n",
      " 18  Length              93 non-null     int64  \n",
      " 19  Wheelbase           93 non-null     int64  \n",
      " 20  Width               93 non-null     int64  \n",
      " 21  Turn.circle         93 non-null     int64  \n",
      " 22  Rear.seat.room      91 non-null     float64\n",
      " 23  Luggage.room        93 non-null     int64  \n",
      " 24  Weight              93 non-null     int64  \n",
      " 25  Origin              93 non-null     object \n",
      " 26  Make                93 non-null     object \n",
      "dtypes: float64(6), int64(12), object(9)\n",
      "memory usage: 19.7+ KB\n"
     ]
    }
   ],
   "source": [
    "df.info()"
   ]
  },
  {
   "cell_type": "code",
   "execution_count": 11,
   "id": "07c69369",
   "metadata": {},
   "outputs": [
    {
     "data": {
      "text/plain": [
       "26.5    9\n",
       "28.0    9\n",
       "27.5    8\n",
       "30.5    8\n",
       "26.0    8\n",
       "30.0    6\n",
       "25.0    5\n",
       "28.5    5\n",
       "27.0    5\n",
       "31.0    4\n",
       "31.5    3\n",
       "29.5    3\n",
       "23.5    3\n",
       "35.0    2\n",
       "24.0    2\n",
       "23.0    2\n",
       "24.5    2\n",
       "25.5    1\n",
       "19.0    1\n",
       "36.0    1\n",
       "29.0    1\n",
       "20.0    1\n",
       "33.5    1\n",
       "34.0    1\n",
       "Name: Rear.seat.room, dtype: int64"
      ]
     },
     "execution_count": 11,
     "metadata": {},
     "output_type": "execute_result"
    }
   ],
   "source": [
    "df['Rear.seat.room'].value_counts()"
   ]
  },
  {
   "cell_type": "code",
   "execution_count": 12,
   "id": "b5e93bae",
   "metadata": {},
   "outputs": [],
   "source": [
    "df['Rear.seat.room'] = df['Rear.seat.room'].fillna('26.5')"
   ]
  },
  {
   "cell_type": "code",
   "execution_count": 13,
   "id": "ba676e78",
   "metadata": {},
   "outputs": [],
   "source": [
    "df = pd.get_dummies(df, columns = ['Manufacturer', 'Model', 'Type', 'AirBags', 'DriveTrain', \n",
    "                                      'Cylinders', 'Man.trans.avail', 'Rear.seat.room', 'Origin', 'Make'])"
   ]
  },
  {
   "cell_type": "code",
   "execution_count": 14,
   "id": "c988166f",
   "metadata": {},
   "outputs": [
    {
     "name": "stdout",
     "output_type": "stream",
     "text": [
      "<class 'pandas.core.frame.DataFrame'>\n",
      "RangeIndex: 93 entries, 0 to 92\n",
      "Columns: 282 entries, Min.Price to Make_Volvo 850\n",
      "dtypes: float64(5), int64(12), uint8(265)\n",
      "memory usage: 36.5 KB\n"
     ]
    }
   ],
   "source": [
    "df.info()"
   ]
  },
  {
   "cell_type": "code",
   "execution_count": 17,
   "id": "f8be0cd2",
   "metadata": {},
   "outputs": [],
   "source": [
    "X = df.drop('Price', axis = 1)\n",
    "y = df['Price']"
   ]
  },
  {
   "cell_type": "code",
   "execution_count": 18,
   "id": "0df62adf",
   "metadata": {},
   "outputs": [],
   "source": [
    "from sklearn.model_selection import train_test_split\n",
    "\n",
    "X_train, X_test, y_train, y_test = train_test_split(X, y, test_size=0.3, random_state=42)"
   ]
  },
  {
   "cell_type": "code",
   "execution_count": 20,
   "id": "f2283f5d",
   "metadata": {},
   "outputs": [],
   "source": [
    "from sklearn.preprocessing import MinMaxScaler\n",
    "scaler = MinMaxScaler()\n",
    "\n",
    "X_train_scaled = scaler.fit_transform(X_train)\n",
    "X_test_scaled = scaler.transform(X_test)"
   ]
  },
  {
   "cell_type": "code",
   "execution_count": 21,
   "id": "92de53d0",
   "metadata": {},
   "outputs": [
    {
     "name": "stdout",
     "output_type": "stream",
     "text": [
      "SVM\n",
      "0.2209414723636075\n",
      "0.26753192350848465\n",
      "\n",
      "\n",
      "0.719703298992662\n",
      "0.6041731148584119\n"
     ]
    },
    {
     "name": "stderr",
     "output_type": "stream",
     "text": [
      "/opt/homebrew/lib/python3.10/site-packages/sklearn/neural_network/_multilayer_perceptron.py:702: ConvergenceWarning: Stochastic Optimizer: Maximum iterations (200) reached and the optimization hasn't converged yet.\n",
      "  warnings.warn(\n"
     ]
    }
   ],
   "source": [
    "from sklearn.model_selection import GridSearchCV\n",
    "from sklearn.svm import SVR\n",
    "from sklearn.neural_network import MLPRegressor\n",
    "\n",
    "svm = SVR()\n",
    "mlp = MLPRegressor(random_state = 42)\n",
    "\n",
    "svm.fit(X_train_scaled, y_train)\n",
    "mlp.fit(X_train_scaled, y_train)\n",
    "\n",
    "y_pred_svm = svm.predict(X_test_scaled)\n",
    "y_pred_mlp = mlp.predict(X_test_scaled)\n",
    "\n",
    "print(\"SVM\")\n",
    "print(svm.score(X_train_scaled, y_train))\n",
    "print(svm.score(X_test_scaled, y_test))\n",
    "print(\"\\n\")\n",
    "print(mlp.score(X_train_scaled, y_train))\n",
    "print(mlp.score(X_test_scaled, y_test))"
   ]
  },
  {
   "cell_type": "code",
   "execution_count": 22,
   "id": "04cf2e93",
   "metadata": {},
   "outputs": [],
   "source": [
    "# 아무런 Hypter Parameter 튜닝을 하지 않고 머신러닝 모델을 생성 후 R2값을 확인 결과,\n",
    "# MLP 모델은 어느정도 학습들을 확인할 수 있었으나, SVR 모델은 모델 설명력이 매우 낮아 Hyper Parameter 튜닝이 필요하다고 판단된다"
   ]
  },
  {
   "cell_type": "code",
   "execution_count": 24,
   "id": "7e762300",
   "metadata": {},
   "outputs": [
    {
     "name": "stdout",
     "output_type": "stream",
     "text": [
      "7.34586268859211\n",
      "5.40009126587714\n"
     ]
    }
   ],
   "source": [
    "import numpy as np\n",
    "from sklearn.metrics import mean_squared_error\n",
    "\n",
    "mse_svm = mean_squared_error(y_test, y_pred_svm)\n",
    "mse_mlp = mean_squared_error(y_test, y_pred_mlp)\n",
    "\n",
    "rmse_svm = np.sqrt(mse_svm)\n",
    "rmse_mlp = np.sqrt(mse_mlp)\n",
    "\n",
    "print(rmse_svm)\n",
    "print(rmse_mlp)"
   ]
  },
  {
   "cell_type": "code",
   "execution_count": 25,
   "id": "c6749618",
   "metadata": {},
   "outputs": [],
   "source": [
    "# Hyper Parameter 튜닝을 하지 않은 상태에서 RMSE값 확인 결과,\n",
    "# SVR 모델은 평균과 약 7만큼, MLP는 평균과 약 5만큼의 차이가 있는 것으로 확인된다.\n",
    "# 2개 모델 비교시 MLP의 오차가 더 적기에 약간은 더 나은 성능을 보인다고 할 수 있다."
   ]
  },
  {
   "cell_type": "code",
   "execution_count": 26,
   "id": "d82708f5",
   "metadata": {},
   "outputs": [
    {
     "name": "stdout",
     "output_type": "stream",
     "text": [
      "SVR(C=100, gamma=0.03)\n",
      "MLPRegressor(hidden_layer_sizes=72)\n"
     ]
    }
   ],
   "source": [
    "import warnings\n",
    "warnings.filterwarnings('ignore')\n",
    "param_svm = {'C' : [1,3,10,30,100], 'gamma' : [0.03,0.1,0.3,1,3]}\n",
    "parma_mlp = {'hidden_layer_sizes' : [40,50,64,72]}\n",
    "\n",
    "grid_svm = GridSearchCV(SVR(), param_svm, cv = 5)\n",
    "grid_mlp = GridSearchCV(MLPRegressor(), parma_mlp, cv = 5)\n",
    "\n",
    "grid_svm.fit(X_train_scaled, y_train)\n",
    "grid_mlp.fit(X_train_scaled, y_train)\n",
    "\n",
    "print(grid_svm.best_estimator_)\n",
    "print(grid_mlp.best_estimator_)"
   ]
  },
  {
   "cell_type": "code",
   "execution_count": 27,
   "id": "f5d2baf3",
   "metadata": {},
   "outputs": [],
   "source": [
    "# GridSearch를 통해 확인된 Best Estimators가 각각 끝값을 가리키기에, 범위를 조정하여 재탐색 시행"
   ]
  },
  {
   "cell_type": "code",
   "execution_count": 28,
   "id": "b85e309a",
   "metadata": {},
   "outputs": [
    {
     "name": "stdout",
     "output_type": "stream",
     "text": [
      "SVR(C=350, gamma=0.005)\n",
      "MLPRegressor(hidden_layer_sizes=320)\n"
     ]
    }
   ],
   "source": [
    "import warnings\n",
    "warnings.filterwarnings('ignore')\n",
    "param_svm = {'C' : [250,300,350,400], 'gamma' : [0.001,0.005,0.1]}\n",
    "parma_mlp = {'hidden_layer_sizes' : [300,320,350,400]}\n",
    "\n",
    "grid_svm = GridSearchCV(SVR(), param_svm, cv = 5)\n",
    "grid_mlp = GridSearchCV(MLPRegressor(), parma_mlp, cv = 5)\n",
    "\n",
    "grid_svm.fit(X_train_scaled, y_train)\n",
    "grid_mlp.fit(X_train_scaled, y_train)\n",
    "\n",
    "print(grid_svm.best_estimator_)\n",
    "print(grid_mlp.best_estimator_)"
   ]
  },
  {
   "cell_type": "code",
   "execution_count": 29,
   "id": "c340bf64",
   "metadata": {},
   "outputs": [],
   "source": [
    "y_pred_svm = grid_svm.best_estimator_.predict(X_test_scaled)\n",
    "y_pred_mlp = grid_mlp.best_estimator_.predict(X_test_scaled)"
   ]
  },
  {
   "cell_type": "code",
   "execution_count": 30,
   "id": "e01b7b4a",
   "metadata": {},
   "outputs": [
    {
     "name": "stdout",
     "output_type": "stream",
     "text": [
      "0.8607292319768396\n",
      "0.8282520914450443\n"
     ]
    }
   ],
   "source": [
    "print(grid_svm.score(X_test_scaled, y_test))\n",
    "print(grid_mlp.score(X_test_scaled, y_test))"
   ]
  },
  {
   "cell_type": "code",
   "execution_count": null,
   "id": "0fc864e7",
   "metadata": {},
   "outputs": [],
   "source": [
    "# Hyper Parameter 튜닝을 통해 SVM의 R2값은 기존 26.7% -> 86.0%로 크게 향상되었으며,\n",
    "# MLP 역시 기존 60% -> 82.8%로 상당히 많이 향상된 것을 확인할 수 있다"
   ]
  },
  {
   "cell_type": "code",
   "execution_count": 31,
   "id": "d8ae5a0e",
   "metadata": {},
   "outputs": [
    {
     "name": "stdout",
     "output_type": "stream",
     "text": [
      "SVM RMSE :  3.2031585852925533\n",
      "MLP RMSE :  3.5570845151890613\n"
     ]
    }
   ],
   "source": [
    "mse_grid_svm = mean_squared_error(y_test, y_pred_svm)\n",
    "mse_grid_mlp = mean_squared_error(y_test, y_pred_mlp)\n",
    "\n",
    "rmse_grid_svm = np.sqrt(mse_grid_svm)\n",
    "rmse_grid_mlp = np.sqrt(mse_grid_mlp)\n",
    "\n",
    "print(\"SVM RMSE : \", rmse_grid_svm)\n",
    "print(\"MLP RMSE : \", rmse_grid_mlp)"
   ]
  },
  {
   "cell_type": "code",
   "execution_count": 32,
   "id": "2937f856",
   "metadata": {},
   "outputs": [],
   "source": [
    "# GridSearch를 통해 Best Estimator를 찾아낸 모델을 통해 예측값을 도출하고 각각의 값에 대해 RMSE값을 확인 결과\n",
    "# SVM : 7.34 -> 3.2 / MLP : 5.40 -> 3.5로 RMSE값이 상당히 개선된 것을 확인할 수 있다.\n",
    "# 2개 모델의 최종 RMSE값은 거의 근사하다 판단되나,\n",
    "# 정확도를 평가 해야 한다면 SVM 모델을, 성능을 우선시 한다면 MLP 모델을 할용할 것이다.\n",
    "# 왜냐하면 SVM 모델은 여러 개의 조합 테스트가 필요하여 학습 속도가 느리기 때문이다.\n",
    "# MLP 역시 속도가 빠른 모델은 아니나, 현재 주어진 데이터를 통해 학습한 체감으로는 SVR이 더 느리다 판단된다."
   ]
  },
  {
   "cell_type": "code",
   "execution_count": null,
   "id": "a6b978fd",
   "metadata": {},
   "outputs": [],
   "source": []
  },
  {
   "cell_type": "markdown",
   "id": "6e9b856f",
   "metadata": {},
   "source": [
    "## titanic 데이터로 나이브베이즈 , SVM,  인공신경망, KNN 모델을 이용해 분류분석 후 최적의 모델을 선정하고 그 이유를 작성하세요. \n",
    "* 종속변수 y = Price \n",
    "* 독립변수 X = price제외 \n",
    "\n"
   ]
  },
  {
   "cell_type": "code",
   "execution_count": 44,
   "id": "4f345704",
   "metadata": {},
   "outputs": [],
   "source": [
    "import pandas as pd \n",
    "data = pd.read_csv('data/titanic.csv')"
   ]
  },
  {
   "cell_type": "code",
   "execution_count": 45,
   "id": "9d19065c",
   "metadata": {},
   "outputs": [
    {
     "name": "stdout",
     "output_type": "stream",
     "text": [
      "<class 'pandas.core.frame.DataFrame'>\n",
      "RangeIndex: 891 entries, 0 to 890\n",
      "Data columns (total 11 columns):\n",
      " #   Column       Non-Null Count  Dtype  \n",
      "---  ------       --------------  -----  \n",
      " 0   survived     891 non-null    int64  \n",
      " 1   pclass       891 non-null    int64  \n",
      " 2   sex          891 non-null    object \n",
      " 3   age          714 non-null    float64\n",
      " 4   sibsp        891 non-null    int64  \n",
      " 5   parch        891 non-null    int64  \n",
      " 6   fare         891 non-null    float64\n",
      " 7   embarked     889 non-null    object \n",
      " 8   class        891 non-null    object \n",
      " 9   adult_male   891 non-null    bool   \n",
      " 10  embark_town  889 non-null    object \n",
      "dtypes: bool(1), float64(2), int64(4), object(4)\n",
      "memory usage: 70.6+ KB\n"
     ]
    }
   ],
   "source": [
    "data.info()"
   ]
  },
  {
   "cell_type": "code",
   "execution_count": 46,
   "id": "4f3631d0",
   "metadata": {},
   "outputs": [
    {
     "name": "stdout",
     "output_type": "stream",
     "text": [
      "<class 'pandas.core.frame.DataFrame'>\n",
      "RangeIndex: 891 entries, 0 to 890\n",
      "Data columns (total 11 columns):\n",
      " #   Column       Non-Null Count  Dtype  \n",
      "---  ------       --------------  -----  \n",
      " 0   survived     891 non-null    int64  \n",
      " 1   pclass       891 non-null    int64  \n",
      " 2   sex          891 non-null    object \n",
      " 3   age          891 non-null    float64\n",
      " 4   sibsp        891 non-null    int64  \n",
      " 5   parch        891 non-null    int64  \n",
      " 6   fare         891 non-null    float64\n",
      " 7   embarked     891 non-null    object \n",
      " 8   class        891 non-null    object \n",
      " 9   adult_male   891 non-null    bool   \n",
      " 10  embark_town  889 non-null    object \n",
      "dtypes: bool(1), float64(2), int64(4), object(4)\n",
      "memory usage: 70.6+ KB\n"
     ]
    }
   ],
   "source": [
    "data.age = data.age.fillna(data.age.mean())\n",
    "data.embarked = data.embarked.fillna(data.embarked.mode()[0])\n",
    "data.info()"
   ]
  },
  {
   "cell_type": "code",
   "execution_count": 48,
   "id": "47d151ad",
   "metadata": {},
   "outputs": [],
   "source": [
    "data = data.drop(['pclass','adult_male','embark_town'], axis = 1)"
   ]
  },
  {
   "cell_type": "code",
   "execution_count": 49,
   "id": "b11fcec3",
   "metadata": {},
   "outputs": [
    {
     "name": "stdout",
     "output_type": "stream",
     "text": [
      "<class 'pandas.core.frame.DataFrame'>\n",
      "RangeIndex: 891 entries, 0 to 890\n",
      "Data columns (total 13 columns):\n",
      " #   Column        Non-Null Count  Dtype  \n",
      "---  ------        --------------  -----  \n",
      " 0   survived      891 non-null    int64  \n",
      " 1   age           891 non-null    float64\n",
      " 2   sibsp         891 non-null    int64  \n",
      " 3   parch         891 non-null    int64  \n",
      " 4   fare          891 non-null    float64\n",
      " 5   sex_female    891 non-null    uint8  \n",
      " 6   sex_male      891 non-null    uint8  \n",
      " 7   embarked_C    891 non-null    uint8  \n",
      " 8   embarked_Q    891 non-null    uint8  \n",
      " 9   embarked_S    891 non-null    uint8  \n",
      " 10  class_First   891 non-null    uint8  \n",
      " 11  class_Second  891 non-null    uint8  \n",
      " 12  class_Third   891 non-null    uint8  \n",
      "dtypes: float64(2), int64(3), uint8(8)\n",
      "memory usage: 41.9 KB\n"
     ]
    }
   ],
   "source": [
    "data = pd.get_dummies(data, columns=['sex', 'embarked', 'class'])\n",
    "data.info()"
   ]
  },
  {
   "cell_type": "code",
   "execution_count": 50,
   "id": "17ac9461",
   "metadata": {},
   "outputs": [],
   "source": [
    "X = data.drop('survived', axis = 1)\n",
    "y = data['survived']"
   ]
  },
  {
   "cell_type": "code",
   "execution_count": 51,
   "id": "3cbb8a63",
   "metadata": {},
   "outputs": [],
   "source": [
    "from sklearn.model_selection import train_test_split\n",
    "X_train, X_test, y_train, y_test = train_test_split(X,y, stratify=y, test_size=0.3, random_state=42)"
   ]
  },
  {
   "cell_type": "code",
   "execution_count": 52,
   "id": "8449878e",
   "metadata": {},
   "outputs": [],
   "source": [
    "from sklearn.preprocessing import StandardScaler\n",
    "scaler = StandardScaler()\n",
    "\n",
    "X_train_scaled = scaler.fit_transform(X_train)\n",
    "X_test_scaled = scaler.transform(X_test)"
   ]
  },
  {
   "cell_type": "code",
   "execution_count": 53,
   "id": "7d9bfe8a",
   "metadata": {},
   "outputs": [
    {
     "name": "stdout",
     "output_type": "stream",
     "text": [
      "Naive Nays\n",
      "scale 전 Train Set :  0.38362760834670945\n",
      "scale 전 Test Set :  0.7849117174959872\n",
      "scale 후 Train Set :  0.3843283582089552\n",
      "scale 후 Test Set :  0.7873134328358209\n",
      "\n",
      "\n",
      "SVC\n",
      "scale 전 Train Set :  0.38362760834670945\n",
      "scale 전 Test Set :  0.8378812199036918\n",
      "scale 후 Train Set :  0.3843283582089552\n",
      "scale 후 Test Set :  0.8208955223880597\n",
      "\n",
      "\n",
      "MLP\n",
      "scale 전 Train Set :  0.47030497592295345\n",
      "scale 전 Test Set :  0.8443017656500803\n",
      "scale 후 Train Set :  0.44029850746268656\n",
      "scale 후 Test Set :  0.8208955223880597\n",
      "\n",
      "\n",
      "KNN\n",
      "scale 전 Train Set :  0.6308186195826645\n",
      "scale 전 Test Set :  0.8619582664526485\n",
      "scale 후 Train Set :  0.6343283582089553\n",
      "scale 후 Test Set :  0.8022388059701493\n",
      "\n",
      "\n"
     ]
    }
   ],
   "source": [
    "from sklearn.naive_bayes import GaussianNB\n",
    "from sklearn.svm import SVC\n",
    "from sklearn.neural_network import MLPClassifier\n",
    "from sklearn.neighbors import KNeighborsClassifier\n",
    "\n",
    "\n",
    "nb = GaussianNB()\n",
    "svc = SVC(probability=True)\n",
    "mlp = MLPClassifier()\n",
    "knn = KNeighborsClassifier()\n",
    "\n",
    "nb.fit(X_train, y_train)\n",
    "nb.fit(X_train_scaled, y_train)\n",
    "\n",
    "svc.fit(X_train, y_train)\n",
    "svc.fit(X_train_scaled, y_train)\n",
    "\n",
    "mlp.fit(X_train, y_train)\n",
    "mlp.fit(X_train_scaled, y_train)\n",
    "\n",
    "knn.fit(X_train, y_train)\n",
    "knn.fit(X_train_scaled, y_train)\n",
    "\n",
    "print(\"Naive Nays\")\n",
    "print(\"scale 전 Train Set : \", nb.score(X_train, y_train))\n",
    "print(\"scale 전 Test Set : \", nb.score(X_train_scaled, y_train))\n",
    "print(\"scale 후 Train Set : \", nb.score(X_test, y_test))\n",
    "print(\"scale 후 Test Set : \", nb.score(X_test_scaled, y_test))\n",
    "print(\"\\n\")\n",
    "print(\"SVC\")\n",
    "print(\"scale 전 Train Set : \", svc.score(X_train, y_train))\n",
    "print(\"scale 전 Test Set : \", svc.score(X_train_scaled, y_train))\n",
    "print(\"scale 후 Train Set : \", svc.score(X_test, y_test))\n",
    "print(\"scale 후 Test Set : \", svc.score(X_test_scaled, y_test))\n",
    "print(\"\\n\")\n",
    "print(\"MLP\")\n",
    "print(\"scale 전 Train Set : \", mlp.score(X_train, y_train))\n",
    "print(\"scale 전 Test Set : \", mlp.score(X_train_scaled, y_train))\n",
    "print(\"scale 후 Train Set : \", mlp.score(X_test, y_test))\n",
    "print(\"scale 후 Test Set : \", mlp.score(X_test_scaled, y_test))\n",
    "print(\"\\n\")\n",
    "print(\"KNN\")\n",
    "print(\"scale 전 Train Set : \", knn.score(X_train, y_train))\n",
    "print(\"scale 전 Test Set : \", knn.score(X_train_scaled, y_train))\n",
    "print(\"scale 후 Train Set : \", knn.score(X_test, y_test))\n",
    "print(\"scale 후 Test Set : \", knn.score(X_test_scaled, y_test))\n",
    "print(\"\\n\")"
   ]
  },
  {
   "cell_type": "code",
   "execution_count": 54,
   "id": "c70ccf3c",
   "metadata": {},
   "outputs": [],
   "source": [
    "# hyper parameter 튜닝을 하지 않은 채 scaling을 한 Set과 그렇지 않은 Set에 대해 각각 R2 Score를 살펴보았다.\n",
    "# 4개 모델 모두 Train Set에 비해 Test Set의 설명력이 더 낫게 나오는 이상 현상이 발생하였다. -> hyper parameter 튜닝 필요\n",
    "# Naive Bays의 경우 scaing 전후 차이가 없음 / SVC, MLP, KNN의 경우 scaling 전이 더 나은 설명력을 보였다.\n",
    "# 그 중 KNN의 모델 설명력이 86.2%로 가장 좋은 설명력을 보였다."
   ]
  },
  {
   "cell_type": "code",
   "execution_count": 56,
   "id": "177eeb7d",
   "metadata": {},
   "outputs": [
    {
     "data": {
      "text/plain": [
       "array([0.61637239, 0.38362761])"
      ]
     },
     "execution_count": 56,
     "metadata": {},
     "output_type": "execute_result"
    }
   ],
   "source": [
    "# Gaussian NB의 경우 사전 확률은 사망일 경우 61.6%, 생존할 경우 38.3%로 세팅 되어 있음이 확인된다.\n",
    "nb.class_prior_"
   ]
  },
  {
   "cell_type": "code",
   "execution_count": 57,
   "id": "e11cf81f",
   "metadata": {},
   "outputs": [],
   "source": [
    "y_pred_nb = nb.predict(X_test)\n",
    "y_pred_svc = svc.predict(X_test)\n",
    "y_pred_mlp = mlp.predict(X_test)\n",
    "y_pred_knn = knn.predict(X_test)"
   ]
  },
  {
   "cell_type": "code",
   "execution_count": 58,
   "id": "a1f3b746",
   "metadata": {},
   "outputs": [
    {
     "name": "stdout",
     "output_type": "stream",
     "text": [
      "Naive Bays\n",
      "         Pred[0]  Pred[1]\n",
      "True[0]        0      165\n",
      "True[1]        0      103\n",
      "\n",
      "\n",
      "SVC\n",
      "         Pred[0]  Pred[1]\n",
      "True[0]        0      165\n",
      "True[1]        0      103\n",
      "\n",
      "\n",
      "mlp\n",
      "         Pred[0]  Pred[1]\n",
      "True[0]       18      147\n",
      "True[1]        3      100\n",
      "\n",
      "\n",
      "knn\n",
      "         Pred[0]  Pred[1]\n",
      "True[0]       85       80\n",
      "True[1]       18       85\n"
     ]
    }
   ],
   "source": [
    "from sklearn.metrics import confusion_matrix, plot_roc_curve, roc_auc_score\n",
    "print('Naive Bays')\n",
    "print(pd.DataFrame(confusion_matrix(y_test, y_pred_nb), index = ['True[0]', 'True[1]'], columns=['Pred[0]', 'Pred[1]']))\n",
    "print(\"\\n\")\n",
    "print('SVC')\n",
    "print(pd.DataFrame(confusion_matrix(y_test, y_pred_svc), index = ['True[0]', 'True[1]'], columns=['Pred[0]', 'Pred[1]']))\n",
    "print(\"\\n\")\n",
    "print('mlp')\n",
    "print(pd.DataFrame(confusion_matrix(y_test, y_pred_mlp), index = ['True[0]', 'True[1]'], columns=['Pred[0]', 'Pred[1]']))\n",
    "print(\"\\n\")\n",
    "print('knn')\n",
    "print(pd.DataFrame(confusion_matrix(y_test, y_pred_knn), index = ['True[0]', 'True[1]'], columns=['Pred[0]', 'Pred[1]']))"
   ]
  },
  {
   "cell_type": "code",
   "execution_count": 59,
   "id": "d2f2a6b3",
   "metadata": {},
   "outputs": [],
   "source": [
    "# confusion matrix 확인 결과 Naive Bays와 SVC는 True가 0일 경우를 거의 예측하지 못하는 것으로 보인다."
   ]
  },
  {
   "cell_type": "code",
   "execution_count": 60,
   "id": "ec057ef2",
   "metadata": {},
   "outputs": [
    {
     "name": "stdout",
     "output_type": "stream",
     "text": [
      "NB :  0.5\n",
      "SVC :  0.49223300970873785\n",
      "mlp :  0.7010002942041776\n",
      "knn :  0.6840541335686967\n"
     ]
    }
   ],
   "source": [
    "print(\"NB : \", roc_auc_score(y_test, nb.predict_proba(X_test)[:,1]))\n",
    "print(\"SVC : \", roc_auc_score(y_test, svc.predict_proba(X_test)[:,1]))\n",
    "print(\"mlp : \", roc_auc_score(y_test, mlp.predict_proba(X_test)[:,1]))\n",
    "print(\"knn : \", roc_auc_score(y_test, knn.predict_proba(X_test)[:,1]))"
   ]
  },
  {
   "cell_type": "code",
   "execution_count": 62,
   "id": "61153375",
   "metadata": {},
   "outputs": [],
   "source": [
    "# roc_auc_score 확인 결과 4개 모델 모두 좋은 score를 보이지는 않음.\n",
    "# hyper parameter 튜닝 필요"
   ]
  },
  {
   "cell_type": "code",
   "execution_count": 63,
   "id": "ced98465",
   "metadata": {},
   "outputs": [
    {
     "name": "stdout",
     "output_type": "stream",
     "text": [
      "SVC(C=300, gamma=0.001, probability=True)\n",
      "MLPClassifier(hidden_layer_sizes=300)\n",
      "KNeighborsClassifier(n_neighbors=14)\n"
     ]
    }
   ],
   "source": [
    "import warnings\n",
    "warnings.filterwarnings('ignore')\n",
    "#param_nb = priors=[0.5,0.5]\n",
    "param_svc = {'C' : [250,300,350,400], 'gamma' : [0.001,0.005,0.1]}\n",
    "param_mlp = {'hidden_layer_sizes' : [300,320,350,400]}\n",
    "param_knn = {'n_neighbors' : range(5,20,1)}\n",
    "\n",
    "\n",
    "grid_nb = GaussianNB(priors=[0.5,0.5])\n",
    "grid_svc = GridSearchCV(SVC(probability=True), param_svm, cv = 5)\n",
    "grid_mlp = GridSearchCV(MLPClassifier(), param_mlp, cv = 5)\n",
    "grid_knn = GridSearchCV(KNeighborsClassifier(), param_knn, cv = 5)\n",
    "\n",
    "grid_nb.fit(X_train, y_train)\n",
    "grid_svc.fit(X_train, y_train)\n",
    "grid_mlp.fit(X_train, y_train)\n",
    "grid_knn.fit(X_train, y_train)\n",
    "\n",
    "#print(grid_nb.best_estimator_)\n",
    "print(grid_svc.best_estimator_)\n",
    "print(grid_mlp.best_estimator_)\n",
    "print(grid_knn.best_estimator_)"
   ]
  },
  {
   "cell_type": "code",
   "execution_count": 64,
   "id": "83c558fd",
   "metadata": {},
   "outputs": [],
   "source": [
    "y_pred_nb = grid_nb.predict(X_test)\n",
    "y_pred_svc = grid_svc.best_estimator_.predict(X_test)\n",
    "y_pred_mlp = grid_mlp.best_estimator_.predict(X_test)\n",
    "y_pred_knn = grid_knn.best_estimator_.predict(X_test)"
   ]
  },
  {
   "cell_type": "code",
   "execution_count": 65,
   "id": "76519782",
   "metadata": {},
   "outputs": [
    {
     "name": "stdout",
     "output_type": "stream",
     "text": [
      "Naive Bays\n",
      "         Pred[0]  Pred[1]\n",
      "True[0]      134       31\n",
      "True[1]       27       76\n",
      "\n",
      "\n",
      "SVC\n",
      "         Pred[0]  Pred[1]\n",
      "True[0]      136       29\n",
      "True[1]       26       77\n",
      "\n",
      "\n",
      "mlp\n",
      "         Pred[0]  Pred[1]\n",
      "True[0]      138       27\n",
      "True[1]       28       75\n",
      "\n",
      "\n",
      "knn\n",
      "         Pred[0]  Pred[1]\n",
      "True[0]      138       27\n",
      "True[1]       53       50\n"
     ]
    }
   ],
   "source": [
    "from sklearn.metrics import confusion_matrix, plot_roc_curve, roc_auc_score\n",
    "print('Naive Bays')\n",
    "print(pd.DataFrame(confusion_matrix(y_test, y_pred_nb), index = ['True[0]', 'True[1]'], columns=['Pred[0]', 'Pred[1]']))\n",
    "print(\"\\n\")\n",
    "print('SVC')\n",
    "print(pd.DataFrame(confusion_matrix(y_test, y_pred_svc), index = ['True[0]', 'True[1]'], columns=['Pred[0]', 'Pred[1]']))\n",
    "print(\"\\n\")\n",
    "print('mlp')\n",
    "print(pd.DataFrame(confusion_matrix(y_test, y_pred_mlp), index = ['True[0]', 'True[1]'], columns=['Pred[0]', 'Pred[1]']))\n",
    "print(\"\\n\")\n",
    "print('knn')\n",
    "print(pd.DataFrame(confusion_matrix(y_test, y_pred_knn), index = ['True[0]', 'True[1]'], columns=['Pred[0]', 'Pred[1]']))"
   ]
  },
  {
   "cell_type": "code",
   "execution_count": 66,
   "id": "73d30736",
   "metadata": {},
   "outputs": [
    {
     "name": "stdout",
     "output_type": "stream",
     "text": [
      "NB :  0.8402765519270373\n",
      "SVC :  0.8267431597528685\n",
      "mlp :  0.8496322447778759\n",
      "knn :  0.7047072668431891\n"
     ]
    }
   ],
   "source": [
    "print(\"NB : \", roc_auc_score(y_test, grid_nb.predict_proba(X_test)[:,1]))\n",
    "print(\"SVC : \", roc_auc_score(y_test, grid_svc.best_estimator_.predict_proba(X_test)[:,1]))\n",
    "print(\"mlp : \", roc_auc_score(y_test, grid_mlp.best_estimator_.predict_proba(X_test)[:,1]))\n",
    "print(\"knn : \", roc_auc_score(y_test, grid_knn.best_estimator_.predict_proba(X_test)[:,1]))"
   ]
  },
  {
   "cell_type": "code",
   "execution_count": 67,
   "id": "66a95dd9",
   "metadata": {},
   "outputs": [
    {
     "data": {
      "text/plain": [
       "<sklearn.metrics._plot.roc_curve.RocCurveDisplay at 0x2a16cbd60>"
      ]
     },
     "execution_count": 67,
     "metadata": {},
     "output_type": "execute_result"
    },
    {
     "data": {
      "image/png": "[encoded data removed]",
      "text/plain": [
       "<Figure size 640x480 with 1 Axes>"
      ]
     },
     "metadata": {},
     "output_type": "display_data"
    },
    {
     "data": {
      "image/png": "[encoded data removed]",
      "text/plain": [
       "<Figure size 640x480 with 1 Axes>"
      ]
     },
     "metadata": {},
     "output_type": "display_data"
    },
    {
     "data": {
      "image/png": "[encoded data removed]",
      "text/plain": [
       "<Figure size 640x480 with 1 Axes>"
      ]
     },
     "metadata": {},
     "output_type": "display_data"
    },
    {
     "data": {
      "image/png": "[encoded data removed]",
      "text/plain": [
       "<Figure size 640x480 with 1 Axes>"
      ]
     },
     "metadata": {},
     "output_type": "display_data"
    }
   ],
   "source": [
    "plot_roc_curve(grid_nb, X_test, y_test)\n",
    "plot_roc_curve(grid_svc.best_estimator_, X_test, y_test)\n",
    "plot_roc_curve(grid_mlp.best_estimator_, X_test, y_test)\n",
    "plot_roc_curve(grid_knn.best_estimator_, X_test, y_test)"
   ]
  },
  {
   "cell_type": "code",
   "execution_count": 68,
   "id": "ac5e0d80",
   "metadata": {},
   "outputs": [],
   "source": [
    "# GaussinNB의 경우 사전 확률을 50:50으로 설정하고,\n",
    "# 나머지 모델들의 hypter parameter 튜닝 결과 기존보다 예측력이 더 나아졌음이 확인된다.\n",
    "# roc_auc_score 역시 크게 향상되었다.\n",
    "# GaussianNB : 0.5 -> 0.84 / SVC : 0.49 -> 0.83 / MLP : 0.70 -> 0.85 / KNN : 0.68 -> 0.70 \n",
    "\n",
    "# 4개 모델 중 정확도를 중시 한다면 roc_auc_score가 가장 높게 나온 MLPClassifier 모델을 사용할 수 있으며,\n",
    "# 속도를 원한다면 아래 모델 중 정확도는 떨어지지만 속도가 가장 빠른 KNN을 활용할 수 있다고 판단된다.\n",
    "# 하지만 KNN의 roc_auc_score가 너무 낮게 나왔기에, 현재의 상황에서는 MLPClassifier가 가장 최적의 모델이라 판단된다."
   ]
  },
  {
   "cell_type": "code",
   "execution_count": null,
   "id": "e03450e7",
   "metadata": {},
   "outputs": [],
   "source": []
  },
  {
   "cell_type": "code",
   "execution_count": null,
   "id": "37f5a7e4",
   "metadata": {},
   "outputs": [],
   "source": []
  },
  {
   "cell_type": "code",
   "execution_count": null,
   "id": "99fca8f1",
   "metadata": {},
   "outputs": [],
   "source": []
  },
  {
   "cell_type": "code",
   "execution_count": null,
   "id": "ed1537dd",
   "metadata": {},
   "outputs": [],
   "source": []
  }
 ],
 "metadata": {
  "kernelspec": {
   "display_name": "Python 3 (ipykernel)",
   "language": "python",
   "name": "python3"
  },
  "language_info": {
   "codemirror_mode": {
    "name": "ipython",
    "version": 3
   },
   "file_extension": ".py",
   "mimetype": "text/x-python",
   "name": "python",
   "nbconvert_exporter": "python",
   "pygments_lexer": "ipython3",
   "version": "3.10.6"
  },
  "toc": {
   "base_numbering": 1,
   "nav_menu": {},
   "number_sections": true,
   "sideBar": true,
   "skip_h1_title": false,
   "title_cell": "Table of Contents",
   "title_sidebar": "Contents",
   "toc_cell": true,
   "toc_position": {},
   "toc_section_display": true,
   "toc_window_display": true
  }
 },
 "nbformat": 4,
 "nbformat_minor": 5
}
