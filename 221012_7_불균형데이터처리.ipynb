{
 "cells": [
  {
   "cell_type": "code",
   "execution_count": null,
   "id": "3207edb7",
   "metadata": {},
   "outputs": [],
   "source": [
    "# ADP 출제 및 여러 산업에서 중요\n",
    "# 데이터 수준(리샘플링), 알고리즘 수준\n",
    "# 언더샘플링 "
   ]
  },
  {
   "cell_type": "code",
   "execution_count": 4,
   "id": "2d570549",
   "metadata": {},
   "outputs": [],
   "source": [
    "import pandas as pd\n",
    "\n",
    "credit = pd.read_csv(\"data/credit_final.csv\")\n",
    "X = credit.drop(['credit.rating'],axis=1)\n",
    "y = credit['credit.rating']\n"
   ]
  },
  {
   "cell_type": "code",
   "execution_count": 5,
   "id": "c1a8f3d5",
   "metadata": {},
   "outputs": [
    {
     "data": {
      "text/plain": [
       "1    700\n",
       "0    300\n",
       "Name: credit.rating, dtype: int64"
      ]
     },
     "execution_count": 5,
     "metadata": {},
     "output_type": "execute_result"
    }
   ],
   "source": [
    "y.value_counts()"
   ]
  },
  {
   "cell_type": "code",
   "execution_count": 6,
   "id": "585c6080",
   "metadata": {},
   "outputs": [
    {
     "data": {
      "text/plain": [
       "<BarContainer object of 2 artists>"
      ]
     },
     "execution_count": 6,
     "metadata": {},
     "output_type": "execute_result"
    },
    {
     "data": {
      "image/png": "[encoded data removed]",
      "text/plain": [
       "<Figure size 432x288 with 1 Axes>"
      ]
     },
     "metadata": {
      "needs_background": "light"
     },
     "output_type": "display_data"
    }
   ],
   "source": [
    "import matplotlib.pyplot as plt \n",
    "plt.bar(y.value_counts().index, y.value_counts().values)"
   ]
  },
  {
   "cell_type": "code",
   "execution_count": 7,
   "id": "1efe1c0a",
   "metadata": {},
   "outputs": [
    {
     "ename": "ModuleNotFoundError",
     "evalue": "No module named 'imblearn'",
     "output_type": "error",
     "traceback": [
      "\u001b[1;31m---------------------------------------------------------------------------\u001b[0m",
      "\u001b[1;31mModuleNotFoundError\u001b[0m                       Traceback (most recent call last)",
      "Input \u001b[1;32mIn [7]\u001b[0m, in \u001b[0;36m<cell line: 1>\u001b[1;34m()\u001b[0m\n\u001b[1;32m----> 1\u001b[0m \u001b[38;5;28;01mimport\u001b[39;00m \u001b[38;5;21;01mimblearn\u001b[39;00m\u001b[38;5;21;01m.\u001b[39;00m\u001b[38;5;21;01munder_sampling\u001b[39;00m\u001b[38;5;21;01m.\u001b[39;00m\u001b[38;5;21;01mbase\u001b[39;00m\n",
      "\u001b[1;31mModuleNotFoundError\u001b[0m: No module named 'imblearn'"
     ]
    }
   ],
   "source": [
    "import imblearn.under_sampling.base"
   ]
  },
  {
   "cell_type": "code",
   "execution_count": null,
   "id": "dcfcdb7a",
   "metadata": {},
   "outputs": [],
   "source": [
    "from imblearn.under_sampling import RandomUnderSampler\n",
    "X_resampled, y_resampled = RandomUnderSampler(random_state=0).fit_resample(X, y)"
   ]
  },
  {
   "cell_type": "code",
   "execution_count": null,
   "id": "2f805f4a",
   "metadata": {},
   "outputs": [],
   "source": [
    "plt.bar(y_resampled.value_counts().index, y_resampled.value_counts().values)"
   ]
  },
  {
   "cell_type": "code",
   "execution_count": null,
   "id": "87a11ec9",
   "metadata": {},
   "outputs": [],
   "source": [
    "from sklearn.ensemble import RandomForestClassifier\n",
    "from sklearn.metrics import plot_roc_curve\n",
    "from sklearn.model_selection import train_test_split\n",
    "X_train, X_test, y_train, y_test = train_test_split(X, y, test_size=0.3, random_state=321)\n",
    "clf = RandomForestClassifier() \n",
    "clf.fit(X_train,y_train)\n",
    "\n",
    "plot_roc_curve(clf, X_test, y_test)"
   ]
  },
  {
   "cell_type": "code",
   "execution_count": null,
   "id": "2efdf1d6",
   "metadata": {},
   "outputs": [],
   "source": [
    "X_re_train, X_re_test, y_re_train, y_re_test = train_test_split(X_resampled, y_resampled, test_size=0.3, random_state=321)\n",
    "clf_re = RandomForestClassifier() \n",
    "clf_re.fit(X_re_train,y_re_train)\n",
    "\n",
    "plot_roc_curve(clf_re, X_re_test, y_re_test)"
   ]
  },
  {
   "cell_type": "code",
   "execution_count": 3,
   "id": "16d81ef5",
   "metadata": {},
   "outputs": [],
   "source": [
    "# 어느정도 소수 클래스의 개수가 충족이 된다면, 언더샘플링 전의 ROC_AUC 값이 더 높을 수 있다.\n",
    "# 클래스의 분균형 차이가 심하면, 언더샘플링 고려 필요\n",
    "# 꼭 1:1 로 맞췄다고 성능이 좋아지진 않는다."
   ]
  },
  {
   "cell_type": "code",
   "execution_count": 8,
   "id": "6b02528e",
   "metadata": {},
   "outputs": [],
   "source": [
    "# 오버샘플링\n",
    "# SMOTE 적절한 K을 찾기가 어려움(GridSearchCV)"
   ]
  },
  {
   "cell_type": "code",
   "execution_count": 9,
   "id": "e0f59f5e",
   "metadata": {},
   "outputs": [],
   "source": [
    "import pandas as pd\n",
    "\n",
    "credit = pd.read_csv(\"data/credit_final.csv\")\n",
    "X = credit.drop(['credit.rating'],axis=1)\n",
    "y = credit['credit.rating']\n"
   ]
  },
  {
   "cell_type": "code",
   "execution_count": 10,
   "id": "043d98e0",
   "metadata": {},
   "outputs": [],
   "source": [
    "from sklearn.model_selection import train_test_split\n",
    "\n",
    "X_train, X_test, y_train, y_test = train_test_split(X, y, test_size=0.3, shuffle=True, stratify=y, random_state=1004)\n"
   ]
  },
  {
   "cell_type": "code",
   "execution_count": 11,
   "id": "57052b6b",
   "metadata": {},
   "outputs": [],
   "source": [
    "from sklearn.preprocessing import MinMaxScaler\n",
    "\n",
    "scaler = MinMaxScaler(feature_range=(0, 1))\n",
    "\n",
    "X_train = pd.DataFrame(scaler.fit_transform(X_train),columns=X_train.columns)\n",
    "X_test = pd.DataFrame(scaler.transform(X_test),columns=X_test.columns)"
   ]
  },
  {
   "cell_type": "code",
   "execution_count": null,
   "id": "0e7520a6",
   "metadata": {},
   "outputs": [],
   "source": [
    "X_train.shape"
   ]
  },
  {
   "cell_type": "code",
   "execution_count": null,
   "id": "2afc0387",
   "metadata": {},
   "outputs": [],
   "source": [
    "y_train.value_counts()"
   ]
  },
  {
   "cell_type": "code",
   "execution_count": null,
   "id": "0f882232",
   "metadata": {},
   "outputs": [],
   "source": [
    "from imblearn.over_sampling import SMOTE\n",
    "# 모델설정\n",
    "sm = SMOTE( k_neighbors=5)\n",
    "\n",
    "# train데이터를 넣어 복제함\n",
    "X_resampled, y_resampled = sm.fit_resample(X_train,y_train)\n",
    "\n",
    "print('After OverSampling, the shape of train_X: {}'.format(X_resampled.shape))\n",
    "print('After OverSampling, the shape of train_y: {} \\n'.format(y_resampled.shape))\n",
    "\n",
    "print(\"After OverSampling, counts of label '1': {}\".format(sum(y_resampled==1)))\n",
    "print(\"After OverSampling, counts of label '0': {}\".format(sum(y_resampled==0)))"
   ]
  },
  {
   "cell_type": "code",
   "execution_count": null,
   "id": "bea8bb0a",
   "metadata": {},
   "outputs": [],
   "source": [
    "from sklearn.svm import SVC\n",
    "svc1 = SVC(C = 20.00, gamma=0.1, probability=True)\n",
    "svc1.fit(X_train, y_train)\n",
    "\n",
    "svc2 = SVC(C = 20.00, gamma=0.1, probability=True)\n",
    "svc2.fit(X_resampled, y_resampled)\n"
   ]
  },
  {
   "cell_type": "code",
   "execution_count": null,
   "id": "a9f29a37",
   "metadata": {},
   "outputs": [],
   "source": [
    "from sklearn.metrics import plot_roc_curve\n",
    "plot_roc_curve(svc1, X_test, y_test)"
   ]
  },
  {
   "cell_type": "code",
   "execution_count": null,
   "id": "8490c819",
   "metadata": {},
   "outputs": [],
   "source": [
    "from sklearn.metrics import plot_roc_curve\n",
    "plot_roc_curve(svc2, X_test, y_test)"
   ]
  },
  {
   "cell_type": "code",
   "execution_count": null,
   "id": "77cabf04",
   "metadata": {},
   "outputs": [],
   "source": [
    "# 매개변수 조절에 따라 클래스의 어느정도의 분균형은 성능에 영향을 미치지 않는다.\n",
    "# 결국 데이터 불균형 처리는 평가지표를 개선시킬 수 있는가?(ROC_AUC 등)에 초점"
   ]
  },
  {
   "cell_type": "code",
   "execution_count": 14,
   "id": "d72349f9",
   "metadata": {},
   "outputs": [],
   "source": [
    "# 불균형 데이터 처리 실습(기출 문제 22~23회)\n",
    "# 분류분석, 알고리즘 선택 > 불균형/언더/오버 > 평가지표(ROC_AUC) 비교 > 알맞은 샘플링 기법 판단\n",
    "# ROC_AUC값이 애매하다면 다시 돌려서 확실한 결과를 보여주는 것이 좋다. + randomState 지정"
   ]
  },
  {
   "cell_type": "code",
   "execution_count": 16,
   "id": "f18d0596",
   "metadata": {},
   "outputs": [],
   "source": [
    "import pandas as pd\n",
    "credit = pd.read_csv(\"data/credit_final.csv\")"
   ]
  },
  {
   "cell_type": "code",
   "execution_count": 17,
   "id": "66864937",
   "metadata": {},
   "outputs": [],
   "source": [
    "import numpy as np \n",
    "class_1 = credit[credit['credit.rating']==1]\n",
    "class_0 = credit[credit['credit.rating']==0].sample(50)"
   ]
  },
  {
   "cell_type": "code",
   "execution_count": 18,
   "id": "cea1c025",
   "metadata": {},
   "outputs": [],
   "source": [
    "credit = pd.concat([class_1,class_0])"
   ]
  },
  {
   "cell_type": "code",
   "execution_count": 19,
   "id": "974256b8",
   "metadata": {},
   "outputs": [],
   "source": [
    "X = credit.drop(['credit.rating'],axis=1)\n",
    "y = credit['credit.rating']"
   ]
  },
  {
   "cell_type": "code",
   "execution_count": 20,
   "id": "97f34461",
   "metadata": {},
   "outputs": [
    {
     "data": {
      "text/plain": [
       "1    700\n",
       "0     50\n",
       "Name: credit.rating, dtype: int64"
      ]
     },
     "execution_count": 20,
     "metadata": {},
     "output_type": "execute_result"
    }
   ],
   "source": [
    "y.value_counts()"
   ]
  },
  {
   "cell_type": "code",
   "execution_count": 21,
   "id": "eb835e5e",
   "metadata": {},
   "outputs": [
    {
     "name": "stderr",
     "output_type": "stream",
     "text": [
      "C:\\Users\\KDB\\anaconda3\\lib\\site-packages\\sklearn\\utils\\deprecation.py:87: FutureWarning: Function plot_roc_curve is deprecated; Function :func:`plot_roc_curve` is deprecated in 1.0 and will be removed in 1.2. Use one of the class methods: :meth:`sklearn.metric.RocCurveDisplay.from_predictions` or :meth:`sklearn.metric.RocCurveDisplay.from_estimator`.\n",
      "  warnings.warn(msg, category=FutureWarning)\n"
     ]
    },
    {
     "data": {
      "text/plain": [
       "<sklearn.metrics._plot.roc_curve.RocCurveDisplay at 0x17069dae130>"
      ]
     },
     "execution_count": 21,
     "metadata": {},
     "output_type": "execute_result"
    },
    {
     "data": {
      "image/png": "[encoded data removed]",
      "text/plain": [
       "<Figure size 432x288 with 1 Axes>"
      ]
     },
     "metadata": {
      "needs_background": "light"
     },
     "output_type": "display_data"
    }
   ],
   "source": [
    "from sklearn.ensemble import RandomForestClassifier\n",
    "from sklearn.metrics import plot_roc_curve\n",
    "from sklearn.model_selection import train_test_split\n",
    "X_train, X_test, y_train, y_test = train_test_split(X, y, test_size=0.3, random_state=321)\n",
    "clf = RandomForestClassifier(random_state=321) \n",
    "clf.fit(X_train,y_train)\n",
    "\n",
    "plot_roc_curve(clf, X_test, y_test)"
   ]
  },
  {
   "cell_type": "code",
   "execution_count": 22,
   "id": "29d4d0b0",
   "metadata": {},
   "outputs": [
    {
     "ename": "ModuleNotFoundError",
     "evalue": "No module named 'imblearn'",
     "output_type": "error",
     "traceback": [
      "\u001b[1;31m---------------------------------------------------------------------------\u001b[0m",
      "\u001b[1;31mModuleNotFoundError\u001b[0m                       Traceback (most recent call last)",
      "Input \u001b[1;32mIn [22]\u001b[0m, in \u001b[0;36m<cell line: 1>\u001b[1;34m()\u001b[0m\n\u001b[1;32m----> 1\u001b[0m \u001b[38;5;28;01mfrom\u001b[39;00m \u001b[38;5;21;01mimblearn\u001b[39;00m\u001b[38;5;21;01m.\u001b[39;00m\u001b[38;5;21;01munder_sampling\u001b[39;00m \u001b[38;5;28;01mimport\u001b[39;00m RandomUnderSampler\n\u001b[0;32m      2\u001b[0m X_resampled, y_resampled \u001b[38;5;241m=\u001b[39m RandomUnderSampler(random_state\u001b[38;5;241m=\u001b[39m\u001b[38;5;241m0\u001b[39m)\u001b[38;5;241m.\u001b[39mfit_resample(X_train, y_train)\n",
      "\u001b[1;31mModuleNotFoundError\u001b[0m: No module named 'imblearn'"
     ]
    }
   ],
   "source": [
    "from imblearn.under_sampling import RandomUnderSampler\n",
    "X_resampled, y_resampled = RandomUnderSampler(random_state=0).fit_resample(X_train, y_train)"
   ]
  },
  {
   "cell_type": "code",
   "execution_count": null,
   "id": "6b7e8f34",
   "metadata": {},
   "outputs": [],
   "source": [
    "clf_re = RandomForestClassifier(random_state=0) \n",
    "clf_re.fit(X_resampled,y_resampled)\n",
    "\n",
    "plot_roc_curve(clf_re, X_test, y_test)"
   ]
  },
  {
   "cell_type": "code",
   "execution_count": null,
   "id": "ba849973",
   "metadata": {},
   "outputs": [],
   "source": [
    "from imblearn.over_sampling import SMOTE\n",
    "# 모델설정\n",
    "sm = SMOTE( k_neighbors=5,random_state=2020)\n",
    "\n",
    "# train데이터를 넣어 복제함\n",
    "X_resampled_over, y_resampled_over = sm.fit_resample(X_train,y_train)\n",
    "\n",
    "print('After OverSampling, the shape of train_X: {}'.format(X_resampled_over.shape))\n",
    "print('After OverSampling, the shape of train_y: {} \\n'.format(y_resampled_over.shape))\n",
    "\n",
    "print(\"After OverSampling, counts of label '1': {}\".format(sum(y_resampled_over==1)))\n",
    "print(\"After OverSampling, counts of label '0': {}\".format(sum(y_resampled_over==0)))"
   ]
  },
  {
   "cell_type": "code",
   "execution_count": 23,
   "id": "c7fcf495",
   "metadata": {},
   "outputs": [
    {
     "ename": "NameError",
     "evalue": "name 'X_resampled_over' is not defined",
     "output_type": "error",
     "traceback": [
      "\u001b[1;31m---------------------------------------------------------------------------\u001b[0m",
      "\u001b[1;31mNameError\u001b[0m                                 Traceback (most recent call last)",
      "Input \u001b[1;32mIn [23]\u001b[0m, in \u001b[0;36m<cell line: 2>\u001b[1;34m()\u001b[0m\n\u001b[0;32m      1\u001b[0m clf_over \u001b[38;5;241m=\u001b[39m RandomForestClassifier(random_state\u001b[38;5;241m=\u001b[39m\u001b[38;5;241m2020\u001b[39m) \n\u001b[1;32m----> 2\u001b[0m clf_over\u001b[38;5;241m.\u001b[39mfit(\u001b[43mX_resampled_over\u001b[49m,y_resampled_over)\n\u001b[0;32m      4\u001b[0m plot_roc_curve(clf_over, X_test, y_test)\n",
      "\u001b[1;31mNameError\u001b[0m: name 'X_resampled_over' is not defined"
     ]
    }
   ],
   "source": [
    "clf_over = RandomForestClassifier(random_state=2020) \n",
    "clf_over.fit(X_resampled_over,y_resampled_over)\n",
    "\n",
    "plot_roc_curve(clf_over, X_test, y_test)\n",
    "\n",
    "# 결과 해석(모범답안)은 강의자료 참고\n",
    "# 머신러닝 문제는 뻔하다. 데이터 전처리, 전처리 과정 설명(언더,스케일러) - 20분 내 작성 필요"
   ]
  },
  {
   "cell_type": "code",
   "execution_count": null,
   "id": "af177800",
   "metadata": {},
   "outputs": [],
   "source": []
  }
 ],
 "metadata": {
  "kernelspec": {
   "display_name": "Python 3 (ipykernel)",
   "language": "python",
   "name": "python3"
  },
  "language_info": {
   "codemirror_mode": {
    "name": "ipython",
    "version": 3
   },
   "file_extension": ".py",
   "mimetype": "text/x-python",
   "name": "python",
   "nbconvert_exporter": "python",
   "pygments_lexer": "ipython3",
   "version": "3.9.12"
  }
 },
 "nbformat": 4,
 "nbformat_minor": 5
}
